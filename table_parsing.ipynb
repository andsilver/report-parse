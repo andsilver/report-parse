{
 "cells": [
  {
   "cell_type": "code",
   "execution_count": 106,
   "id": "initial_id",
   "metadata": {
    "collapsed": true,
    "ExecuteTime": {
     "end_time": "2023-08-09T14:11:00.844157401Z",
     "start_time": "2023-08-09T14:11:00.711580028Z"
    }
   },
   "outputs": [
    {
     "data": {
      "text/plain": "[{'Lien Type:': 'Federal Tax Lien',\n  'Filed Against:': None,\n  'Amount:': '$87,052.04',\n  'Recorded Date:': '01/10/2020',\n  'Recording Information:': None,\n  'Comment:': None},\n {'Lien Type:': 'Federal Tax Lien',\n  'Filed Against:': None,\n  'Amount:': '$35,986.01',\n  'Recorded Date:': '03/08/2010',\n  'Recording Information:': None,\n  'Comment:': None}]"
     },
     "execution_count": 106,
     "metadata": {},
     "output_type": "execute_result"
    }
   ],
   "source": [
    "import pandas as pd\n",
    "\n",
    "from main import ParseReport, fuzz\n",
    "\n",
    "report = ParseReport(file=\"result/TEST - Magellan - Cloud Example and Explanation.json\", json_file=True, save_json=False)\n",
    "report.get_lien()"
   ]
  },
  {
   "cell_type": "code",
   "execution_count": 107,
   "outputs": [
    {
     "data": {
      "text/plain": "       page_idx    dimensions orientation.value orientation.confidence  \\\nindex                                                                    \n0             0  [1684, 1190]              None                   None   \n1             0  [1684, 1190]              None                   None   \n2             0  [1684, 1190]              None                   None   \n3             0  [1684, 1190]              None                   None   \n4             0  [1684, 1190]              None                   None   \n\n      language.value language.confidence  block_idx  \\\nindex                                                 \n0               None                None          0   \n1               None                None          0   \n2               None                None          0   \n3               None                None          0   \n4               None                None          0   \n\n                                          block_geometry artefacts  line_idx  \\\nindex                                                                          \n0      [[0.4365234375, 0.0556640625], [0.9267578125, ...        []         0   \n1      [[0.4365234375, 0.0556640625], [0.9267578125, ...        []         0   \n2      [[0.4365234375, 0.0556640625], [0.9267578125, ...        []         0   \n3      [[0.4365234375, 0.0556640625], [0.9267578125, ...        []         0   \n4      [[0.4365234375, 0.0556640625], [0.9267578125, ...        []         0   \n\n                                           line_geometry  word_idx     value  \\\nindex                                                                          \n0      [[0.4365234375, 0.0556640625], [0.9267578125, ...         0  Southern   \n1      [[0.4365234375, 0.0556640625], [0.9267578125, ...         1   Indiana   \n2      [[0.4365234375, 0.0556640625], [0.9267578125, ...         2  Abstract   \n3      [[0.4365234375, 0.0556640625], [0.9267578125, ...         3  Company,   \n4      [[0.4365234375, 0.0556640625], [0.9267578125, ...         4       Inc   \n\n       confidence        x1        y1        x2        y2  \nindex                                                      \n0        0.999931  0.436523  0.056641  0.545898  0.074219  \n1        0.962854  0.552734  0.056641  0.643555  0.074219  \n2        0.979812  0.649414  0.058594  0.750977  0.073242  \n3        0.980987  0.756836  0.057617  0.879883  0.078125  \n4        0.987708  0.886719  0.055664  0.926758  0.075195  ",
      "text/html": "<div>\n<style scoped>\n    .dataframe tbody tr th:only-of-type {\n        vertical-align: middle;\n    }\n\n    .dataframe tbody tr th {\n        vertical-align: top;\n    }\n\n    .dataframe thead th {\n        text-align: right;\n    }\n</style>\n<table border=\"1\" class=\"dataframe\">\n  <thead>\n    <tr style=\"text-align: right;\">\n      <th></th>\n      <th>page_idx</th>\n      <th>dimensions</th>\n      <th>orientation.value</th>\n      <th>orientation.confidence</th>\n      <th>language.value</th>\n      <th>language.confidence</th>\n      <th>block_idx</th>\n      <th>block_geometry</th>\n      <th>artefacts</th>\n      <th>line_idx</th>\n      <th>line_geometry</th>\n      <th>word_idx</th>\n      <th>value</th>\n      <th>confidence</th>\n      <th>x1</th>\n      <th>y1</th>\n      <th>x2</th>\n      <th>y2</th>\n    </tr>\n    <tr>\n      <th>index</th>\n      <th></th>\n      <th></th>\n      <th></th>\n      <th></th>\n      <th></th>\n      <th></th>\n      <th></th>\n      <th></th>\n      <th></th>\n      <th></th>\n      <th></th>\n      <th></th>\n      <th></th>\n      <th></th>\n      <th></th>\n      <th></th>\n      <th></th>\n      <th></th>\n    </tr>\n  </thead>\n  <tbody>\n    <tr>\n      <th>0</th>\n      <td>0</td>\n      <td>[1684, 1190]</td>\n      <td>None</td>\n      <td>None</td>\n      <td>None</td>\n      <td>None</td>\n      <td>0</td>\n      <td>[[0.4365234375, 0.0556640625], [0.9267578125, ...</td>\n      <td>[]</td>\n      <td>0</td>\n      <td>[[0.4365234375, 0.0556640625], [0.9267578125, ...</td>\n      <td>0</td>\n      <td>Southern</td>\n      <td>0.999931</td>\n      <td>0.436523</td>\n      <td>0.056641</td>\n      <td>0.545898</td>\n      <td>0.074219</td>\n    </tr>\n    <tr>\n      <th>1</th>\n      <td>0</td>\n      <td>[1684, 1190]</td>\n      <td>None</td>\n      <td>None</td>\n      <td>None</td>\n      <td>None</td>\n      <td>0</td>\n      <td>[[0.4365234375, 0.0556640625], [0.9267578125, ...</td>\n      <td>[]</td>\n      <td>0</td>\n      <td>[[0.4365234375, 0.0556640625], [0.9267578125, ...</td>\n      <td>1</td>\n      <td>Indiana</td>\n      <td>0.962854</td>\n      <td>0.552734</td>\n      <td>0.056641</td>\n      <td>0.643555</td>\n      <td>0.074219</td>\n    </tr>\n    <tr>\n      <th>2</th>\n      <td>0</td>\n      <td>[1684, 1190]</td>\n      <td>None</td>\n      <td>None</td>\n      <td>None</td>\n      <td>None</td>\n      <td>0</td>\n      <td>[[0.4365234375, 0.0556640625], [0.9267578125, ...</td>\n      <td>[]</td>\n      <td>0</td>\n      <td>[[0.4365234375, 0.0556640625], [0.9267578125, ...</td>\n      <td>2</td>\n      <td>Abstract</td>\n      <td>0.979812</td>\n      <td>0.649414</td>\n      <td>0.058594</td>\n      <td>0.750977</td>\n      <td>0.073242</td>\n    </tr>\n    <tr>\n      <th>3</th>\n      <td>0</td>\n      <td>[1684, 1190]</td>\n      <td>None</td>\n      <td>None</td>\n      <td>None</td>\n      <td>None</td>\n      <td>0</td>\n      <td>[[0.4365234375, 0.0556640625], [0.9267578125, ...</td>\n      <td>[]</td>\n      <td>0</td>\n      <td>[[0.4365234375, 0.0556640625], [0.9267578125, ...</td>\n      <td>3</td>\n      <td>Company,</td>\n      <td>0.980987</td>\n      <td>0.756836</td>\n      <td>0.057617</td>\n      <td>0.879883</td>\n      <td>0.078125</td>\n    </tr>\n    <tr>\n      <th>4</th>\n      <td>0</td>\n      <td>[1684, 1190]</td>\n      <td>None</td>\n      <td>None</td>\n      <td>None</td>\n      <td>None</td>\n      <td>0</td>\n      <td>[[0.4365234375, 0.0556640625], [0.9267578125, ...</td>\n      <td>[]</td>\n      <td>0</td>\n      <td>[[0.4365234375, 0.0556640625], [0.9267578125, ...</td>\n      <td>4</td>\n      <td>Inc</td>\n      <td>0.987708</td>\n      <td>0.886719</td>\n      <td>0.055664</td>\n      <td>0.926758</td>\n      <td>0.075195</td>\n    </tr>\n  </tbody>\n</table>\n</div>"
     },
     "execution_count": 107,
     "metadata": {},
     "output_type": "execute_result"
    }
   ],
   "source": [
    "report.words.head()"
   ],
   "metadata": {
    "collapsed": false,
    "ExecuteTime": {
     "end_time": "2023-08-09T14:11:00.844983894Z",
     "start_time": "2023-08-09T14:11:00.818301155Z"
    }
   },
   "id": "cfbb4282e1f7e56b"
  },
  {
   "cell_type": "code",
   "execution_count": 108,
   "outputs": [
    {
     "data": {
      "text/plain": "       page_idx  block_idx  line_idx        x1        y1        x2        y2  \\\nindex                                                                          \n2374         13        222       517  0.424805  0.083984  0.485352  0.098633   \n2021         12        187       427  0.420898  0.089844  0.479492  0.101562   \n3020         15        269       681  0.250977  0.227539  0.312500  0.238281   \n\n         value         paired     space     align  score  \nindex                                                     \n2374    Notice    Notice Lien  0.133789  0.000000      0  \n2021    Notice    Notice Lien  0.134766  0.001465      0  \n3020   Notices  Notices Lien,  0.191406  0.092285      8  ",
      "text/html": "<div>\n<style scoped>\n    .dataframe tbody tr th:only-of-type {\n        vertical-align: middle;\n    }\n\n    .dataframe tbody tr th {\n        vertical-align: top;\n    }\n\n    .dataframe thead th {\n        text-align: right;\n    }\n</style>\n<table border=\"1\" class=\"dataframe\">\n  <thead>\n    <tr style=\"text-align: right;\">\n      <th></th>\n      <th>page_idx</th>\n      <th>block_idx</th>\n      <th>line_idx</th>\n      <th>x1</th>\n      <th>y1</th>\n      <th>x2</th>\n      <th>y2</th>\n      <th>value</th>\n      <th>paired</th>\n      <th>space</th>\n      <th>align</th>\n      <th>score</th>\n    </tr>\n    <tr>\n      <th>index</th>\n      <th></th>\n      <th></th>\n      <th></th>\n      <th></th>\n      <th></th>\n      <th></th>\n      <th></th>\n      <th></th>\n      <th></th>\n      <th></th>\n      <th></th>\n      <th></th>\n    </tr>\n  </thead>\n  <tbody>\n    <tr>\n      <th>2374</th>\n      <td>13</td>\n      <td>222</td>\n      <td>517</td>\n      <td>0.424805</td>\n      <td>0.083984</td>\n      <td>0.485352</td>\n      <td>0.098633</td>\n      <td>Notice</td>\n      <td>Notice Lien</td>\n      <td>0.133789</td>\n      <td>0.000000</td>\n      <td>0</td>\n    </tr>\n    <tr>\n      <th>2021</th>\n      <td>12</td>\n      <td>187</td>\n      <td>427</td>\n      <td>0.420898</td>\n      <td>0.089844</td>\n      <td>0.479492</td>\n      <td>0.101562</td>\n      <td>Notice</td>\n      <td>Notice Lien</td>\n      <td>0.134766</td>\n      <td>0.001465</td>\n      <td>0</td>\n    </tr>\n    <tr>\n      <th>3020</th>\n      <td>15</td>\n      <td>269</td>\n      <td>681</td>\n      <td>0.250977</td>\n      <td>0.227539</td>\n      <td>0.312500</td>\n      <td>0.238281</td>\n      <td>Notices</td>\n      <td>Notices Lien,</td>\n      <td>0.191406</td>\n      <td>0.092285</td>\n      <td>8</td>\n    </tr>\n  </tbody>\n</table>\n</div>"
     },
     "execution_count": 108,
     "metadata": {},
     "output_type": "execute_result"
    }
   ],
   "source": [
    "context = report.words\n",
    "word1, word2 = \"Notice\", \"Lien\"\n",
    "line = context[context['value'].str.contains(word1) | context['value'].str.contains(word2)][[\"page_idx\", \"block_idx\", \"line_idx\", \"x1\", \"y1\", \"x2\", \"y2\", \"value\"]]\n",
    "        \n",
    "line['paired']=  line.value + \" \" + line.value.shift(-1)\n",
    "line['space']=  line.x1.shift(-1) - line.x2\n",
    "line['align']=  (abs(line.y1.shift(-1) - line.y1) + (line.y2.shift(-1) - line.y2))/2\n",
    "\n",
    "line[\"score\"] = line[\"paired\"].apply(lambda x: 100 - fuzz.ratio(str(x), str(word1) + \" \" + str(word2)))\n",
    "line = line[line.score < 10]\n",
    "line = line.sort_values(by=['score', 'space', \"align\"])\n",
    "# line = line.iloc[0][[\"page_idx\", \"block_idx\", \"line_idx\", \"paired\"]]\n",
    "# line = context[(context['page_idx'] == line.page_idx.item()) & (context['block_idx'] == line.block_idx.item()) & (context['line_idx'] == line.line_idx.item())][\"value\"].values\n",
    "line"
   ],
   "metadata": {
    "collapsed": false,
    "ExecuteTime": {
     "end_time": "2023-08-09T14:11:00.866159431Z",
     "start_time": "2023-08-09T14:11:00.822514219Z"
    }
   },
   "id": "87724ae7bb31b085"
  },
  {
   "cell_type": "code",
   "execution_count": 109,
   "outputs": [
    {
     "data": {
      "text/plain": "array(['Notice', 'of', 'Federal', 'Tax', 'Lien'], dtype=object)"
     },
     "execution_count": 109,
     "metadata": {},
     "output_type": "execute_result"
    }
   ],
   "source": [
    "context = report.words\n",
    "word1, word2 = \"Notice\", \"Lien\"\n",
    "line = context[context['value'].str.contains(word1) | context['value'].str.contains(word2)][[\"page_idx\", \"block_idx\", \"line_idx\", \"x1\", \"y1\", \"x2\", \"y2\", \"value\"]]\n",
    "\n",
    "line['paired']=  line.value + \" \" + line.value.shift(-1)\n",
    "line['space']=  line.x1.shift(-1) - line.x2\n",
    "line['align']=  (abs(line.y1.shift(-1) - line.y1) + (line.y2.shift(-1) - line.y2))/2\n",
    "\n",
    "line[\"score\"] = line[\"paired\"].apply(lambda x: 100 - fuzz.ratio(str(x), str(word1) + \" \" + str(word2)))\n",
    "line = line[line.score < 10]\n",
    "line = line.sort_values(by=['score', 'space', \"align\"])\n",
    "result = line.iloc[0][[\"page_idx\", \"block_idx\", \"line_idx\", \"paired\"]]\n",
    "result = context[(context['page_idx'] == result.page_idx.item()) & (context['block_idx'] == result.block_idx.item()) & (context['line_idx'] == result.line_idx.item())][\"value\"].values\n",
    "result\n"
   ],
   "metadata": {
    "collapsed": false,
    "ExecuteTime": {
     "end_time": "2023-08-09T14:11:00.942197845Z",
     "start_time": "2023-08-09T14:11:00.838192011Z"
    }
   },
   "id": "905a150a0fb9036"
  },
  {
   "cell_type": "code",
   "execution_count": 110,
   "outputs": [
    {
     "data": {
      "text/plain": "array(['Notice', 'of', 'Federal', 'Tax', 'Lien'], dtype=object)"
     },
     "execution_count": 110,
     "metadata": {},
     "output_type": "execute_result"
    }
   ],
   "source": [
    "result = line.iloc[0][[\"page_idx\", \"block_idx\", \"line_idx\", \"paired\"]]\n",
    "result = context[(context['page_idx'] == result.page_idx.item()) & (context['block_idx'] == result.block_idx.item()) & (context['line_idx'] == result.line_idx.item())][\"value\"].values\n",
    "result"
   ],
   "metadata": {
    "collapsed": false,
    "ExecuteTime": {
     "end_time": "2023-08-09T14:11:00.942605492Z",
     "start_time": "2023-08-09T14:11:00.878868556Z"
    }
   },
   "id": "a1e43b05de12f306"
  },
  {
   "cell_type": "code",
   "execution_count": 111,
   "outputs": [
    {
     "data": {
      "text/plain": "       page_idx  block_idx  line_idx        x1        y1        x2        y2  \\\nindex                                                                          \n2536         13        231       540  0.170898  0.344727  0.204102  0.356445   \n\n      value    paired     space  align       x12       y12       x22  \\\nindex                                                                  \n2536   Kind  Kind Tax  0.016602    0.0  0.220703  0.344727  0.249023   \n\n            y22  score  \nindex                   \n2536   0.356445      0  ",
      "text/html": "<div>\n<style scoped>\n    .dataframe tbody tr th:only-of-type {\n        vertical-align: middle;\n    }\n\n    .dataframe tbody tr th {\n        vertical-align: top;\n    }\n\n    .dataframe thead th {\n        text-align: right;\n    }\n</style>\n<table border=\"1\" class=\"dataframe\">\n  <thead>\n    <tr style=\"text-align: right;\">\n      <th></th>\n      <th>page_idx</th>\n      <th>block_idx</th>\n      <th>line_idx</th>\n      <th>x1</th>\n      <th>y1</th>\n      <th>x2</th>\n      <th>y2</th>\n      <th>value</th>\n      <th>paired</th>\n      <th>space</th>\n      <th>align</th>\n      <th>x12</th>\n      <th>y12</th>\n      <th>x22</th>\n      <th>y22</th>\n      <th>score</th>\n    </tr>\n    <tr>\n      <th>index</th>\n      <th></th>\n      <th></th>\n      <th></th>\n      <th></th>\n      <th></th>\n      <th></th>\n      <th></th>\n      <th></th>\n      <th></th>\n      <th></th>\n      <th></th>\n      <th></th>\n      <th></th>\n      <th></th>\n      <th></th>\n      <th></th>\n    </tr>\n  </thead>\n  <tbody>\n    <tr>\n      <th>2536</th>\n      <td>13</td>\n      <td>231</td>\n      <td>540</td>\n      <td>0.170898</td>\n      <td>0.344727</td>\n      <td>0.204102</td>\n      <td>0.356445</td>\n      <td>Kind</td>\n      <td>Kind Tax</td>\n      <td>0.016602</td>\n      <td>0.0</td>\n      <td>0.220703</td>\n      <td>0.344727</td>\n      <td>0.249023</td>\n      <td>0.356445</td>\n      <td>0</td>\n    </tr>\n  </tbody>\n</table>\n</div>"
     },
     "execution_count": 111,
     "metadata": {},
     "output_type": "execute_result"
    }
   ],
   "source": [
    "word1, word2 = \"Kind\", \"Tax\"\n",
    "row = line.iloc[0][[\"page_idx\", \"block_idx\", \"line_idx\", \"paired\"]]\n",
    "c = report.words[(report.words.page_idx == row.page_idx)]\n",
    "column = c[c['value'].str.contains(word1) | c['value'].str.contains(word2)][[\"page_idx\", \"block_idx\", \"line_idx\", \"x1\", \"y1\", \"x2\", \"y2\", \"value\"]]\n",
    "column['paired']=  column.value + \" \" + column.value.shift(-1)\n",
    "column['space']=  abs(column.x1.shift(-1) - column.x2)\n",
    "column['align']=  (abs(column.y1.shift(-1) - column.y1) + (column.y2.shift(-1) - column.y2))/2\n",
    "\n",
    "column['x12']=  column.x1.shift(-1)\n",
    "column['y12']=  column.y1.shift(-1)\n",
    "column['x22']=  column.x2.shift(-1)\n",
    "column['y22']=  column.y2.shift(-1)\n",
    "\n",
    "column[\"score\"] = column[\"paired\"].apply(lambda x: 100 - fuzz.ratio(str(x), str(word1) + \" \" + str(word2)))\n",
    "column = column[column.score < 10]\n",
    "column = column.sort_values(by=['score', 'space', \"align\"])\n",
    "column"
   ],
   "metadata": {
    "collapsed": false,
    "ExecuteTime": {
     "end_time": "2023-08-09T14:11:00.942946339Z",
     "start_time": "2023-08-09T14:11:00.879014377Z"
    }
   },
   "id": "852c35bbc51d1ec7"
  },
  {
   "cell_type": "code",
   "execution_count": 112,
   "outputs": [
    {
     "data": {
      "text/plain": "          value  line_idx\nindex                    \n2533         in       539\n2534        IRC       539\n2535   6325(a).       539\n2536       Kind       540\n2537         of       540\n2538        Tax       540\n2539        (a)       541",
      "text/html": "<div>\n<style scoped>\n    .dataframe tbody tr th:only-of-type {\n        vertical-align: middle;\n    }\n\n    .dataframe tbody tr th {\n        vertical-align: top;\n    }\n\n    .dataframe thead th {\n        text-align: right;\n    }\n</style>\n<table border=\"1\" class=\"dataframe\">\n  <thead>\n    <tr style=\"text-align: right;\">\n      <th></th>\n      <th>value</th>\n      <th>line_idx</th>\n    </tr>\n    <tr>\n      <th>index</th>\n      <th></th>\n      <th></th>\n    </tr>\n  </thead>\n  <tbody>\n    <tr>\n      <th>2533</th>\n      <td>in</td>\n      <td>539</td>\n    </tr>\n    <tr>\n      <th>2534</th>\n      <td>IRC</td>\n      <td>539</td>\n    </tr>\n    <tr>\n      <th>2535</th>\n      <td>6325(a).</td>\n      <td>539</td>\n    </tr>\n    <tr>\n      <th>2536</th>\n      <td>Kind</td>\n      <td>540</td>\n    </tr>\n    <tr>\n      <th>2537</th>\n      <td>of</td>\n      <td>540</td>\n    </tr>\n    <tr>\n      <th>2538</th>\n      <td>Tax</td>\n      <td>540</td>\n    </tr>\n    <tr>\n      <th>2539</th>\n      <td>(a)</td>\n      <td>541</td>\n    </tr>\n  </tbody>\n</table>\n</div>"
     },
     "execution_count": 112,
     "metadata": {},
     "output_type": "execute_result"
    }
   ],
   "source": [
    "c[(c.block_idx==231)][[\"value\", \"line_idx\"]]"
   ],
   "metadata": {
    "collapsed": false,
    "ExecuteTime": {
     "end_time": "2023-08-09T14:11:01.017590599Z",
     "start_time": "2023-08-09T14:11:00.922845778Z"
    }
   },
   "id": "e00d57bddd2106a4"
  },
  {
   "cell_type": "code",
   "execution_count": 113,
   "outputs": [
    {
     "name": "stdout",
     "output_type": "stream",
     "text": [
      "1040 0.0 1.0 0.0107421875\n",
      "False\n",
      "False\n",
      "False\n",
      "0\n",
      "1040 0.0 1.0 0.0107421875\n",
      "False\n",
      "False\n",
      "False\n",
      "1\n",
      "1040 0.0 1.0 0.01171875\n",
      "False\n",
      "False\n",
      "False\n",
      "2\n",
      "1040 0.0 1.0 0.0107421875\n",
      "False\n",
      "False\n",
      "False\n",
      "3\n",
      "1040 0.0 1.0 0.0107421875\n",
      "False\n",
      "False\n",
      "False\n",
      "4\n",
      "1040 0.0 1.0 0.1162109375\n",
      "False\n",
      "False\n",
      "False\n",
      "5\n",
      "1040 1.0 1.0 0.0703125\n",
      "False\n",
      "False\n",
      "False\n",
      "6\n",
      "of 4.0 7.0 0.0791015625\n",
      "False\n",
      "False\n",
      "False\n",
      "7\n"
     ]
    },
    {
     "data": {
      "text/plain": "     value  block_idx  line_idx       hd2        hd       h2d  bid   lid\n0     1040        237       559  0.010742  0.023438  0.010742  0.0   1.0\n1     1040        237       560  0.010742  0.034180  0.010742  0.0   1.0\n2     1040        237       561  0.010742  0.044922  0.011719  0.0   1.0\n3     1040        237       562  0.011719  0.056641  0.010742  0.0   1.0\n4     1040        237       563  0.010742  0.067383  0.010742  0.0   1.0\n5     1040        237       564  0.010742  0.078125  0.116211  0.0   1.0\n6     1040        237       565  0.116211  0.194336  0.070312  1.0   1.0\n7       of        238       566  0.070312  0.264648  0.079102  4.0   7.0\n8   notice        242       573  0.079102  0.343750  0.012695  6.0  13.0\n9     G.J.        248       586  0.012695  0.356445  0.009766  0.0   1.0\n10  (NOTE:        248       587  0.009766  0.366211  0.000000  0.0   1.0\n11    Rev.        248       588  0.000000  0.366211  0.027344  0.0   0.0\n12    Rul.        248       588  0.027344  0.393555  0.000000  0.0   1.0\n13   Floyd        248       589  0.000000  0.393555       NaN  0.0   0.0\n14  County        248       589       NaN       NaN       NaN  NaN   NaN",
      "text/html": "<div>\n<style scoped>\n    .dataframe tbody tr th:only-of-type {\n        vertical-align: middle;\n    }\n\n    .dataframe tbody tr th {\n        vertical-align: top;\n    }\n\n    .dataframe thead th {\n        text-align: right;\n    }\n</style>\n<table border=\"1\" class=\"dataframe\">\n  <thead>\n    <tr style=\"text-align: right;\">\n      <th></th>\n      <th>value</th>\n      <th>block_idx</th>\n      <th>line_idx</th>\n      <th>hd2</th>\n      <th>hd</th>\n      <th>h2d</th>\n      <th>bid</th>\n      <th>lid</th>\n    </tr>\n  </thead>\n  <tbody>\n    <tr>\n      <th>0</th>\n      <td>1040</td>\n      <td>237</td>\n      <td>559</td>\n      <td>0.010742</td>\n      <td>0.023438</td>\n      <td>0.010742</td>\n      <td>0.0</td>\n      <td>1.0</td>\n    </tr>\n    <tr>\n      <th>1</th>\n      <td>1040</td>\n      <td>237</td>\n      <td>560</td>\n      <td>0.010742</td>\n      <td>0.034180</td>\n      <td>0.010742</td>\n      <td>0.0</td>\n      <td>1.0</td>\n    </tr>\n    <tr>\n      <th>2</th>\n      <td>1040</td>\n      <td>237</td>\n      <td>561</td>\n      <td>0.010742</td>\n      <td>0.044922</td>\n      <td>0.011719</td>\n      <td>0.0</td>\n      <td>1.0</td>\n    </tr>\n    <tr>\n      <th>3</th>\n      <td>1040</td>\n      <td>237</td>\n      <td>562</td>\n      <td>0.011719</td>\n      <td>0.056641</td>\n      <td>0.010742</td>\n      <td>0.0</td>\n      <td>1.0</td>\n    </tr>\n    <tr>\n      <th>4</th>\n      <td>1040</td>\n      <td>237</td>\n      <td>563</td>\n      <td>0.010742</td>\n      <td>0.067383</td>\n      <td>0.010742</td>\n      <td>0.0</td>\n      <td>1.0</td>\n    </tr>\n    <tr>\n      <th>5</th>\n      <td>1040</td>\n      <td>237</td>\n      <td>564</td>\n      <td>0.010742</td>\n      <td>0.078125</td>\n      <td>0.116211</td>\n      <td>0.0</td>\n      <td>1.0</td>\n    </tr>\n    <tr>\n      <th>6</th>\n      <td>1040</td>\n      <td>237</td>\n      <td>565</td>\n      <td>0.116211</td>\n      <td>0.194336</td>\n      <td>0.070312</td>\n      <td>1.0</td>\n      <td>1.0</td>\n    </tr>\n    <tr>\n      <th>7</th>\n      <td>of</td>\n      <td>238</td>\n      <td>566</td>\n      <td>0.070312</td>\n      <td>0.264648</td>\n      <td>0.079102</td>\n      <td>4.0</td>\n      <td>7.0</td>\n    </tr>\n    <tr>\n      <th>8</th>\n      <td>notice</td>\n      <td>242</td>\n      <td>573</td>\n      <td>0.079102</td>\n      <td>0.343750</td>\n      <td>0.012695</td>\n      <td>6.0</td>\n      <td>13.0</td>\n    </tr>\n    <tr>\n      <th>9</th>\n      <td>G.J.</td>\n      <td>248</td>\n      <td>586</td>\n      <td>0.012695</td>\n      <td>0.356445</td>\n      <td>0.009766</td>\n      <td>0.0</td>\n      <td>1.0</td>\n    </tr>\n    <tr>\n      <th>10</th>\n      <td>(NOTE:</td>\n      <td>248</td>\n      <td>587</td>\n      <td>0.009766</td>\n      <td>0.366211</td>\n      <td>0.000000</td>\n      <td>0.0</td>\n      <td>1.0</td>\n    </tr>\n    <tr>\n      <th>11</th>\n      <td>Rev.</td>\n      <td>248</td>\n      <td>588</td>\n      <td>0.000000</td>\n      <td>0.366211</td>\n      <td>0.027344</td>\n      <td>0.0</td>\n      <td>0.0</td>\n    </tr>\n    <tr>\n      <th>12</th>\n      <td>Rul.</td>\n      <td>248</td>\n      <td>588</td>\n      <td>0.027344</td>\n      <td>0.393555</td>\n      <td>0.000000</td>\n      <td>0.0</td>\n      <td>1.0</td>\n    </tr>\n    <tr>\n      <th>13</th>\n      <td>Floyd</td>\n      <td>248</td>\n      <td>589</td>\n      <td>0.000000</td>\n      <td>0.393555</td>\n      <td>NaN</td>\n      <td>0.0</td>\n      <td>0.0</td>\n    </tr>\n    <tr>\n      <th>14</th>\n      <td>County</td>\n      <td>248</td>\n      <td>589</td>\n      <td>NaN</td>\n      <td>NaN</td>\n      <td>NaN</td>\n      <td>NaN</td>\n      <td>NaN</td>\n    </tr>\n  </tbody>\n</table>\n</div>"
     },
     "execution_count": 113,
     "metadata": {},
     "output_type": "execute_result"
    }
   ],
   "source": [
    "right = 0.00\n",
    "left = 0.00\n",
    "column_data = c[(c.x1 >= column.x1.item() - left) & (c.x2 <= column.x22.item() + right) & (c.y1 >= column.y2.item())]\n",
    "column_data['hd']=  abs(column_data.y1.shift(-1) - column.y2.item())\n",
    "column_data = column_data.sort_values(by=['hd'])\n",
    "column_data['bid']=  abs(column_data.block_idx.shift(-1) - column_data.block_idx)\n",
    "column_data['lid']=  abs(column_data.line_idx.shift(-1) - column_data.line_idx)\n",
    "column_data['h2d']=  abs(column_data.hd.shift(-1) - column_data.hd)\n",
    "column_data = column_data.sort_values(by=['hd', 'h2d', 'bid', \"lid\"])\n",
    "column_data = column_data.reset_index(drop=True)\n",
    "column_data['hd2']=  column_data.y1.shift(-1) - column_data.y1\n",
    "values = []\n",
    "\n",
    "for i, k in column_data.iterrows():\n",
    "    print(k.value, k.bid, k.lid, k.h2d)\n",
    "    print(k.bid - column_data.iloc[i + 1].bid.item() > 0)\n",
    "    print(k.lid - column_data.iloc[i + 1].lid.item() > 0)\n",
    "    print(column_data.iloc[i + 1].h2d.item() > 0.12)\n",
    "    print(i)\n",
    "\n",
    "    if k.hd > 0.2 or column_data.iloc[i + 1].h2d.item() > 0.2:\n",
    "    # print(column_data.bid - column_data.iloc[i + 1].bid.item())\n",
    "    # print(k.bid - column_data.iloc[i + 1].bid.item())\n",
    "        break\n",
    "    else:\n",
    "        values.append(k.value)\n",
    "\n",
    "# values\n",
    "column_data[[\"value\", \"block_idx\", \"line_idx\", \"hd2\", 'hd', 'h2d', 'bid', \"lid\"]]"
   ],
   "metadata": {
    "collapsed": false,
    "ExecuteTime": {
     "end_time": "2023-08-09T14:11:01.018089109Z",
     "start_time": "2023-08-09T14:11:00.922988615Z"
    }
   },
   "id": "bc9f094d03a92dbc"
  },
  {
   "cell_type": "code",
   "execution_count": 114,
   "outputs": [
    {
     "data": {
      "text/plain": "[page_idx                                                                 13\n dimensions                                                     [1684, 1190]\n orientation.value                                                      None\n orientation.confidence                                                 None\n language.value                                                         None\n language.confidence                                                    None\n block_idx                                                               237\n block_geometry            [[0.193359375, 0.3681640625], [0.701171875, 0....\n artefacts                                                                []\n line_idx                                                                559\n line_geometry             [[0.193359375, 0.3681640625], [0.701171875, 0....\n word_idx                                                               2565\n value                                                                  1040\n confidence                                                         0.996726\n x1                                                                 0.193359\n y1                                                                 0.369141\n x2                                                                 0.233398\n y2                                                                 0.380859\n hd                                                                 0.023438\n bid                                                                     0.0\n lid                                                                     1.0\n h2d                                                                0.010742\n Name: 0, dtype: object,\n page_idx                                                                 13\n dimensions                                                     [1684, 1190]\n orientation.value                                                      None\n orientation.confidence                                                 None\n language.value                                                         None\n language.confidence                                                    None\n block_idx                                                               237\n block_geometry            [[0.193359375, 0.3681640625], [0.701171875, 0....\n artefacts                                                                []\n line_idx                                                                560\n line_geometry             [[0.193359375, 0.37890625], [0.7001953125, 0.3...\n word_idx                                                               2570\n value                                                                  1040\n confidence                                                         0.960193\n x1                                                                 0.193359\n y1                                                                 0.379883\n x2                                                                 0.233398\n y2                                                                 0.391602\n hd                                                                  0.03418\n bid                                                                     0.0\n lid                                                                     1.0\n h2d                                                                0.010742\n Name: 1, dtype: object,\n page_idx                                                                 13\n dimensions                                                     [1684, 1190]\n orientation.value                                                      None\n orientation.confidence                                                 None\n language.value                                                         None\n language.confidence                                                    None\n block_idx                                                               237\n block_geometry            [[0.193359375, 0.3681640625], [0.701171875, 0....\n artefacts                                                                []\n line_idx                                                                561\n line_geometry             [[0.193359375, 0.390625], [0.7001953125, 0.404...\n word_idx                                                               2575\n value                                                                  1040\n confidence                                                          0.99801\n x1                                                                 0.193359\n y1                                                                 0.390625\n x2                                                                 0.233398\n y2                                                                 0.402344\n hd                                                                 0.044922\n bid                                                                     0.0\n lid                                                                     1.0\n h2d                                                                0.011719\n Name: 2, dtype: object,\n page_idx                                                                 13\n dimensions                                                     [1684, 1190]\n orientation.value                                                      None\n orientation.confidence                                                 None\n language.value                                                         None\n language.confidence                                                    None\n block_idx                                                               237\n block_geometry            [[0.193359375, 0.3681640625], [0.701171875, 0....\n artefacts                                                                []\n line_idx                                                                562\n line_geometry             [[0.193359375, 0.4013671875], [0.7001953125, 0...\n word_idx                                                               2580\n value                                                                  1040\n confidence                                                         0.997673\n x1                                                                 0.193359\n y1                                                                 0.401367\n x2                                                                 0.233398\n y2                                                                 0.413086\n hd                                                                 0.056641\n bid                                                                     0.0\n lid                                                                     1.0\n h2d                                                                0.010742\n Name: 3, dtype: object,\n page_idx                                                                 13\n dimensions                                                     [1684, 1190]\n orientation.value                                                      None\n orientation.confidence                                                 None\n language.value                                                         None\n language.confidence                                                    None\n block_idx                                                               237\n block_geometry            [[0.193359375, 0.3681640625], [0.701171875, 0....\n artefacts                                                                []\n line_idx                                                                563\n line_geometry             [[0.193359375, 0.412109375], [0.7001953125, 0....\n word_idx                                                               2585\n value                                                                  1040\n confidence                                                         0.958626\n x1                                                                 0.193359\n y1                                                                 0.413086\n x2                                                                 0.233398\n y2                                                                 0.424805\n hd                                                                 0.067383\n bid                                                                     0.0\n lid                                                                     1.0\n h2d                                                                0.010742\n Name: 4, dtype: object,\n page_idx                                                                 13\n dimensions                                                     [1684, 1190]\n orientation.value                                                      None\n orientation.confidence                                                 None\n language.value                                                         None\n language.confidence                                                    None\n block_idx                                                               237\n block_geometry            [[0.193359375, 0.3681640625], [0.701171875, 0....\n artefacts                                                                []\n line_idx                                                                564\n line_geometry             [[0.193359375, 0.423828125], [0.701171875, 0.4...\n word_idx                                                               2590\n value                                                                  1040\n confidence                                                         0.742312\n x1                                                                 0.193359\n y1                                                                 0.423828\n x2                                                                 0.233398\n y2                                                                 0.435547\n hd                                                                 0.078125\n bid                                                                     0.0\n lid                                                                     1.0\n h2d                                                                0.116211\n Name: 5, dtype: object,\n page_idx                                                                 13\n dimensions                                                     [1684, 1190]\n orientation.value                                                      None\n orientation.confidence                                                 None\n language.value                                                         None\n language.confidence                                                    None\n block_idx                                                               237\n block_geometry            [[0.193359375, 0.3681640625], [0.701171875, 0....\n artefacts                                                                []\n line_idx                                                                565\n line_geometry             [[0.1943359375, 0.4345703125], [0.701171875, 0...\n word_idx                                                               2595\n value                                                                  1040\n confidence                                                         0.998738\n x1                                                                 0.194336\n y1                                                                  0.43457\n x2                                                                 0.233398\n y2                                                                 0.446289\n hd                                                                 0.194336\n bid                                                                     1.0\n lid                                                                     1.0\n h2d                                                                0.070312\n Name: 6, dtype: object]"
     },
     "execution_count": 114,
     "metadata": {},
     "output_type": "execute_result"
    }
   ],
   "source": [
    "right = 0.00\n",
    "left = 0.00\n",
    "height = 0.21\n",
    "column_data = c[(c.x1 >= column.x1.item() - left) & (c.x2 <= column.x22.item() + right) & (c.y1 - 0.01 >= column.y2.item())]\n",
    "column_data['hd'] = abs(column_data.y1.shift(-1) - column.y2.item())\n",
    "column_data = column_data.sort_values(by=['hd'])\n",
    "column_data['bid'] = abs(column_data.block_idx.shift(-1) - column_data.block_idx)\n",
    "column_data['lid'] = abs(column_data.line_idx.shift(-1) - column_data.line_idx)\n",
    "column_data['h2d'] = abs(column_data.hd.shift(-1) - column_data.hd)\n",
    "column_data = column_data.sort_values(by=['hd', 'h2d', 'bid', \"lid\"])\n",
    "column_data = column_data.reset_index(drop=True)\n",
    "values = []\n",
    "for i, k in column_data.iterrows():\n",
    "    if row.block_idx == k.block_idx:\n",
    "        continue\n",
    "    # elif k.bid > 1 or k.lid > block_d or column_data.iloc[i + line_d].hd.item() > height:\n",
    "    #     break\n",
    "    if k.hd > height or column_data.iloc[i + 1].h2d.item() > height:\n",
    "        break\n",
    "    else:\n",
    "        values.append(k)\n",
    "\n",
    "values"
   ],
   "metadata": {
    "collapsed": false,
    "ExecuteTime": {
     "end_time": "2023-08-09T14:11:01.080817628Z",
     "start_time": "2023-08-09T14:11:00.923084587Z"
    }
   },
   "id": "617ecd61e44303a2"
  },
  {
   "cell_type": "code",
   "execution_count": 115,
   "outputs": [
    {
     "data": {
      "text/plain": "   page_idx    dimensions orientation.value orientation.confidence  \\\n0        13  [1684, 1190]              None                   None   \n1        13  [1684, 1190]              None                   None   \n2        13  [1684, 1190]              None                   None   \n3        13  [1684, 1190]              None                   None   \n4        13  [1684, 1190]              None                   None   \n5        13  [1684, 1190]              None                   None   \n6        13  [1684, 1190]              None                   None   \n\n  language.value language.confidence  block_idx  \\\n0           None                None        237   \n1           None                None        237   \n2           None                None        237   \n3           None                None        237   \n4           None                None        237   \n5           None                None        237   \n6           None                None        237   \n\n                                      block_geometry artefacts  line_idx  ...  \\\n0  [[0.193359375, 0.3681640625], [0.701171875, 0....        []       559  ...   \n1  [[0.193359375, 0.3681640625], [0.701171875, 0....        []       560  ...   \n2  [[0.193359375, 0.3681640625], [0.701171875, 0....        []       561  ...   \n3  [[0.193359375, 0.3681640625], [0.701171875, 0....        []       562  ...   \n4  [[0.193359375, 0.3681640625], [0.701171875, 0....        []       563  ...   \n5  [[0.193359375, 0.3681640625], [0.701171875, 0....        []       564  ...   \n6  [[0.193359375, 0.3681640625], [0.701171875, 0....        []       565  ...   \n\n  value  confidence        x1        y1        x2        y2        hd  bid  \\\n0  1040    0.996726  0.193359  0.369141  0.233398  0.380859  0.023438  0.0   \n1  1040    0.960193  0.193359  0.379883  0.233398  0.391602  0.034180  0.0   \n2  1040    0.998010  0.193359  0.390625  0.233398  0.402344  0.044922  0.0   \n3  1040    0.997673  0.193359  0.401367  0.233398  0.413086  0.056641  0.0   \n4  1040    0.958626  0.193359  0.413086  0.233398  0.424805  0.067383  0.0   \n5  1040    0.742312  0.193359  0.423828  0.233398  0.435547  0.078125  0.0   \n6  1040    0.998738  0.194336  0.434570  0.233398  0.446289  0.194336  1.0   \n\n   lid       h2d  \n0  1.0  0.010742  \n1  1.0  0.010742  \n2  1.0  0.011719  \n3  1.0  0.010742  \n4  1.0  0.010742  \n5  1.0  0.116211  \n6  1.0  0.070312  \n\n[7 rows x 22 columns]",
      "text/html": "<div>\n<style scoped>\n    .dataframe tbody tr th:only-of-type {\n        vertical-align: middle;\n    }\n\n    .dataframe tbody tr th {\n        vertical-align: top;\n    }\n\n    .dataframe thead th {\n        text-align: right;\n    }\n</style>\n<table border=\"1\" class=\"dataframe\">\n  <thead>\n    <tr style=\"text-align: right;\">\n      <th></th>\n      <th>page_idx</th>\n      <th>dimensions</th>\n      <th>orientation.value</th>\n      <th>orientation.confidence</th>\n      <th>language.value</th>\n      <th>language.confidence</th>\n      <th>block_idx</th>\n      <th>block_geometry</th>\n      <th>artefacts</th>\n      <th>line_idx</th>\n      <th>...</th>\n      <th>value</th>\n      <th>confidence</th>\n      <th>x1</th>\n      <th>y1</th>\n      <th>x2</th>\n      <th>y2</th>\n      <th>hd</th>\n      <th>bid</th>\n      <th>lid</th>\n      <th>h2d</th>\n    </tr>\n  </thead>\n  <tbody>\n    <tr>\n      <th>0</th>\n      <td>13</td>\n      <td>[1684, 1190]</td>\n      <td>None</td>\n      <td>None</td>\n      <td>None</td>\n      <td>None</td>\n      <td>237</td>\n      <td>[[0.193359375, 0.3681640625], [0.701171875, 0....</td>\n      <td>[]</td>\n      <td>559</td>\n      <td>...</td>\n      <td>1040</td>\n      <td>0.996726</td>\n      <td>0.193359</td>\n      <td>0.369141</td>\n      <td>0.233398</td>\n      <td>0.380859</td>\n      <td>0.023438</td>\n      <td>0.0</td>\n      <td>1.0</td>\n      <td>0.010742</td>\n    </tr>\n    <tr>\n      <th>1</th>\n      <td>13</td>\n      <td>[1684, 1190]</td>\n      <td>None</td>\n      <td>None</td>\n      <td>None</td>\n      <td>None</td>\n      <td>237</td>\n      <td>[[0.193359375, 0.3681640625], [0.701171875, 0....</td>\n      <td>[]</td>\n      <td>560</td>\n      <td>...</td>\n      <td>1040</td>\n      <td>0.960193</td>\n      <td>0.193359</td>\n      <td>0.379883</td>\n      <td>0.233398</td>\n      <td>0.391602</td>\n      <td>0.034180</td>\n      <td>0.0</td>\n      <td>1.0</td>\n      <td>0.010742</td>\n    </tr>\n    <tr>\n      <th>2</th>\n      <td>13</td>\n      <td>[1684, 1190]</td>\n      <td>None</td>\n      <td>None</td>\n      <td>None</td>\n      <td>None</td>\n      <td>237</td>\n      <td>[[0.193359375, 0.3681640625], [0.701171875, 0....</td>\n      <td>[]</td>\n      <td>561</td>\n      <td>...</td>\n      <td>1040</td>\n      <td>0.998010</td>\n      <td>0.193359</td>\n      <td>0.390625</td>\n      <td>0.233398</td>\n      <td>0.402344</td>\n      <td>0.044922</td>\n      <td>0.0</td>\n      <td>1.0</td>\n      <td>0.011719</td>\n    </tr>\n    <tr>\n      <th>3</th>\n      <td>13</td>\n      <td>[1684, 1190]</td>\n      <td>None</td>\n      <td>None</td>\n      <td>None</td>\n      <td>None</td>\n      <td>237</td>\n      <td>[[0.193359375, 0.3681640625], [0.701171875, 0....</td>\n      <td>[]</td>\n      <td>562</td>\n      <td>...</td>\n      <td>1040</td>\n      <td>0.997673</td>\n      <td>0.193359</td>\n      <td>0.401367</td>\n      <td>0.233398</td>\n      <td>0.413086</td>\n      <td>0.056641</td>\n      <td>0.0</td>\n      <td>1.0</td>\n      <td>0.010742</td>\n    </tr>\n    <tr>\n      <th>4</th>\n      <td>13</td>\n      <td>[1684, 1190]</td>\n      <td>None</td>\n      <td>None</td>\n      <td>None</td>\n      <td>None</td>\n      <td>237</td>\n      <td>[[0.193359375, 0.3681640625], [0.701171875, 0....</td>\n      <td>[]</td>\n      <td>563</td>\n      <td>...</td>\n      <td>1040</td>\n      <td>0.958626</td>\n      <td>0.193359</td>\n      <td>0.413086</td>\n      <td>0.233398</td>\n      <td>0.424805</td>\n      <td>0.067383</td>\n      <td>0.0</td>\n      <td>1.0</td>\n      <td>0.010742</td>\n    </tr>\n    <tr>\n      <th>5</th>\n      <td>13</td>\n      <td>[1684, 1190]</td>\n      <td>None</td>\n      <td>None</td>\n      <td>None</td>\n      <td>None</td>\n      <td>237</td>\n      <td>[[0.193359375, 0.3681640625], [0.701171875, 0....</td>\n      <td>[]</td>\n      <td>564</td>\n      <td>...</td>\n      <td>1040</td>\n      <td>0.742312</td>\n      <td>0.193359</td>\n      <td>0.423828</td>\n      <td>0.233398</td>\n      <td>0.435547</td>\n      <td>0.078125</td>\n      <td>0.0</td>\n      <td>1.0</td>\n      <td>0.116211</td>\n    </tr>\n    <tr>\n      <th>6</th>\n      <td>13</td>\n      <td>[1684, 1190]</td>\n      <td>None</td>\n      <td>None</td>\n      <td>None</td>\n      <td>None</td>\n      <td>237</td>\n      <td>[[0.193359375, 0.3681640625], [0.701171875, 0....</td>\n      <td>[]</td>\n      <td>565</td>\n      <td>...</td>\n      <td>1040</td>\n      <td>0.998738</td>\n      <td>0.194336</td>\n      <td>0.434570</td>\n      <td>0.233398</td>\n      <td>0.446289</td>\n      <td>0.194336</td>\n      <td>1.0</td>\n      <td>1.0</td>\n      <td>0.070312</td>\n    </tr>\n  </tbody>\n</table>\n<p>7 rows × 22 columns</p>\n</div>"
     },
     "execution_count": 115,
     "metadata": {},
     "output_type": "execute_result"
    }
   ],
   "source": [
    "first_col = pd.DataFrame(values)\n",
    "first_col"
   ],
   "metadata": {
    "collapsed": false,
    "ExecuteTime": {
     "end_time": "2023-08-09T14:11:01.081345353Z",
     "start_time": "2023-08-09T14:11:00.970876047Z"
    }
   },
   "id": "5d4252b900e05fb1"
  },
  {
   "cell_type": "code",
   "execution_count": 116,
   "outputs": [
    {
     "name": "stdout",
     "output_type": "stream",
     "text": [
      "['1040', '12/31/2010', 'XXX-XX-5442', '12/10/2018', '01/09/2029', '5474.28']\n",
      "['1040', '12/31/2011', 'XXX-XX-5442', '12/17/2018', '01/16/2029', '13622.93']\n",
      "['1040', '12/31/2012', 'XXX-XX-5442', '12/17/2018', '01/16/2029', '13180.27']\n",
      "['1040', '12/31/2013', 'XXX-XX-5442', '12/17/2018', '01/16/2029', '11788.82']\n",
      "['1040', '12/31/2014', 'XXX-XX-5442', '12/17/2018', '01/16/2029', '10573.17']\n",
      "['1040', '12/31/2015', 'XXX-XX-5442', '10/29/2018', '11/28/2028', '18465.47']\n",
      "['1040', '12/31/2016', 'XXX-XX-5442', '10/29/2018', '11/28/2028', '13947.10']\n"
     ]
    }
   ],
   "source": [
    "for k, v in first_col.iterrows():\n",
    "    row_values = list(c[c.line_idx == v.line_idx].value.values)\n",
    "    line_values = c[(c.y1 >= c[c.line_idx == v.line_idx].y1.min()) & (c.y2 <= c[c.line_idx == v.line_idx].y2.max())].value.values\n",
    "    row_values.append(line_values[0])\n",
    "    print(row_values)\n",
    "    "
   ],
   "metadata": {
    "collapsed": false,
    "ExecuteTime": {
     "end_time": "2023-08-09T14:11:01.081551443Z",
     "start_time": "2023-08-09T14:11:00.971118994Z"
    }
   },
   "id": "ac3e87e5bda073aa"
  },
  {
   "cell_type": "code",
   "execution_count": 117,
   "outputs": [
    {
     "data": {
      "text/plain": "       page_idx    dimensions orientation.value orientation.confidence  \\\nindex                                                                    \n2235         12  [1684, 1190]              None                   None   \n2236         12  [1684, 1190]              None                   None   \n2237         12  [1684, 1190]              None                   None   \n2238         12  [1684, 1190]              None                   None   \n2239         12  [1684, 1190]              None                   None   \n2240         12  [1684, 1190]              None                   None   \n2241         12  [1684, 1190]              None                   None   \n2242         12  [1684, 1190]              None                   None   \n2243         12  [1684, 1190]              None                   None   \n2244         12  [1684, 1190]              None                   None   \n2245         12  [1684, 1190]              None                   None   \n2246         12  [1684, 1190]              None                   None   \n\n      language.value language.confidence  block_idx  \\\nindex                                                 \n2235            None                None        203   \n2236            None                None        203   \n2237            None                None        203   \n2238            None                None        203   \n2239            None                None        203   \n2240            None                None        204   \n2241            None                None        204   \n2242            None                None        204   \n2243            None                None        205   \n2244            None                None        205   \n2245            None                None        205   \n2246            None                None        205   \n\n                                          block_geometry artefacts  line_idx  \\\nindex                                                                          \n2235   [[0.1904296875, 0.3720703125], [0.693359375, 0...        []       474   \n2236   [[0.1904296875, 0.3720703125], [0.693359375, 0...        []       474   \n2237   [[0.1904296875, 0.3720703125], [0.693359375, 0...        []       474   \n2238   [[0.1904296875, 0.3720703125], [0.693359375, 0...        []       474   \n2239   [[0.1904296875, 0.3720703125], [0.693359375, 0...        []       474   \n2240   [[0.1630859375, 0.5537109375], [0.2509765625, ...        []       475   \n2241   [[0.1630859375, 0.5537109375], [0.2509765625, ...        []       475   \n2242   [[0.1630859375, 0.5537109375], [0.2509765625, ...        []       475   \n2243   [[0.2939453125, 0.5654296875], [0.4833984375, ...        []       476   \n2244   [[0.2939453125, 0.5654296875], [0.4833984375, ...        []       476   \n2245   [[0.2939453125, 0.5654296875], [0.4833984375, ...        []       477   \n2246   [[0.2939453125, 0.5654296875], [0.4833984375, ...        []       477   \n\n                                           line_geometry  word_idx  \\\nindex                                                                \n2235   [[0.1904296875, 0.3828125], [0.693359375, 0.39...      2235   \n2236   [[0.1904296875, 0.3828125], [0.693359375, 0.39...      2236   \n2237   [[0.1904296875, 0.3828125], [0.693359375, 0.39...      2237   \n2238   [[0.1904296875, 0.3828125], [0.693359375, 0.39...      2238   \n2239   [[0.1904296875, 0.3828125], [0.693359375, 0.39...      2239   \n2240   [[0.1630859375, 0.5537109375], [0.2509765625, ...      2240   \n2241   [[0.1630859375, 0.5537109375], [0.2509765625, ...      2241   \n2242   [[0.1630859375, 0.5537109375], [0.2509765625, ...      2242   \n2243   [[0.294921875, 0.5654296875], [0.4375, 0.57617...      2243   \n2244   [[0.294921875, 0.5654296875], [0.4375, 0.57617...      2244   \n2245   [[0.294921875, 0.576171875], [0.41015625, 0.58...      2245   \n2246   [[0.294921875, 0.576171875], [0.41015625, 0.58...      2246   \n\n             value  confidence        x1        y1        x2        y2  \nindex                                                                   \n2235          1040    0.979255  0.190430  0.383789  0.230469  0.395508  \n2236    12/31/2008    0.998142  0.254883  0.382812  0.350586  0.396484  \n2237   XXX-XX-5442    0.928731  0.367188  0.384766  0.470703  0.395508  \n2238    01/11/2010    0.681623  0.486328  0.382812  0.582031  0.396484  \n2239    02/10/2020    0.992605  0.598633  0.382812  0.693359  0.396484  \n2240         Place    0.980629  0.163086  0.554688  0.199219  0.566406  \n2241            of    0.999805  0.198242  0.553711  0.216797  0.566406  \n2242        Filing    0.998490  0.216797  0.555664  0.250977  0.567383  \n2243        COUNTY    0.885574  0.294922  0.565430  0.353516  0.576172  \n2244      RECORDER    0.986162  0.360352  0.565430  0.437500  0.576172  \n2245         FLOYD    0.998953  0.294922  0.576172  0.344727  0.587891  \n2246        COUNTY    0.986044  0.350586  0.576172  0.410156  0.586914  ",
      "text/html": "<div>\n<style scoped>\n    .dataframe tbody tr th:only-of-type {\n        vertical-align: middle;\n    }\n\n    .dataframe tbody tr th {\n        vertical-align: top;\n    }\n\n    .dataframe thead th {\n        text-align: right;\n    }\n</style>\n<table border=\"1\" class=\"dataframe\">\n  <thead>\n    <tr style=\"text-align: right;\">\n      <th></th>\n      <th>page_idx</th>\n      <th>dimensions</th>\n      <th>orientation.value</th>\n      <th>orientation.confidence</th>\n      <th>language.value</th>\n      <th>language.confidence</th>\n      <th>block_idx</th>\n      <th>block_geometry</th>\n      <th>artefacts</th>\n      <th>line_idx</th>\n      <th>line_geometry</th>\n      <th>word_idx</th>\n      <th>value</th>\n      <th>confidence</th>\n      <th>x1</th>\n      <th>y1</th>\n      <th>x2</th>\n      <th>y2</th>\n    </tr>\n    <tr>\n      <th>index</th>\n      <th></th>\n      <th></th>\n      <th></th>\n      <th></th>\n      <th></th>\n      <th></th>\n      <th></th>\n      <th></th>\n      <th></th>\n      <th></th>\n      <th></th>\n      <th></th>\n      <th></th>\n      <th></th>\n      <th></th>\n      <th></th>\n      <th></th>\n      <th></th>\n    </tr>\n  </thead>\n  <tbody>\n    <tr>\n      <th>2235</th>\n      <td>12</td>\n      <td>[1684, 1190]</td>\n      <td>None</td>\n      <td>None</td>\n      <td>None</td>\n      <td>None</td>\n      <td>203</td>\n      <td>[[0.1904296875, 0.3720703125], [0.693359375, 0...</td>\n      <td>[]</td>\n      <td>474</td>\n      <td>[[0.1904296875, 0.3828125], [0.693359375, 0.39...</td>\n      <td>2235</td>\n      <td>1040</td>\n      <td>0.979255</td>\n      <td>0.190430</td>\n      <td>0.383789</td>\n      <td>0.230469</td>\n      <td>0.395508</td>\n    </tr>\n    <tr>\n      <th>2236</th>\n      <td>12</td>\n      <td>[1684, 1190]</td>\n      <td>None</td>\n      <td>None</td>\n      <td>None</td>\n      <td>None</td>\n      <td>203</td>\n      <td>[[0.1904296875, 0.3720703125], [0.693359375, 0...</td>\n      <td>[]</td>\n      <td>474</td>\n      <td>[[0.1904296875, 0.3828125], [0.693359375, 0.39...</td>\n      <td>2236</td>\n      <td>12/31/2008</td>\n      <td>0.998142</td>\n      <td>0.254883</td>\n      <td>0.382812</td>\n      <td>0.350586</td>\n      <td>0.396484</td>\n    </tr>\n    <tr>\n      <th>2237</th>\n      <td>12</td>\n      <td>[1684, 1190]</td>\n      <td>None</td>\n      <td>None</td>\n      <td>None</td>\n      <td>None</td>\n      <td>203</td>\n      <td>[[0.1904296875, 0.3720703125], [0.693359375, 0...</td>\n      <td>[]</td>\n      <td>474</td>\n      <td>[[0.1904296875, 0.3828125], [0.693359375, 0.39...</td>\n      <td>2237</td>\n      <td>XXX-XX-5442</td>\n      <td>0.928731</td>\n      <td>0.367188</td>\n      <td>0.384766</td>\n      <td>0.470703</td>\n      <td>0.395508</td>\n    </tr>\n    <tr>\n      <th>2238</th>\n      <td>12</td>\n      <td>[1684, 1190]</td>\n      <td>None</td>\n      <td>None</td>\n      <td>None</td>\n      <td>None</td>\n      <td>203</td>\n      <td>[[0.1904296875, 0.3720703125], [0.693359375, 0...</td>\n      <td>[]</td>\n      <td>474</td>\n      <td>[[0.1904296875, 0.3828125], [0.693359375, 0.39...</td>\n      <td>2238</td>\n      <td>01/11/2010</td>\n      <td>0.681623</td>\n      <td>0.486328</td>\n      <td>0.382812</td>\n      <td>0.582031</td>\n      <td>0.396484</td>\n    </tr>\n    <tr>\n      <th>2239</th>\n      <td>12</td>\n      <td>[1684, 1190]</td>\n      <td>None</td>\n      <td>None</td>\n      <td>None</td>\n      <td>None</td>\n      <td>203</td>\n      <td>[[0.1904296875, 0.3720703125], [0.693359375, 0...</td>\n      <td>[]</td>\n      <td>474</td>\n      <td>[[0.1904296875, 0.3828125], [0.693359375, 0.39...</td>\n      <td>2239</td>\n      <td>02/10/2020</td>\n      <td>0.992605</td>\n      <td>0.598633</td>\n      <td>0.382812</td>\n      <td>0.693359</td>\n      <td>0.396484</td>\n    </tr>\n    <tr>\n      <th>2240</th>\n      <td>12</td>\n      <td>[1684, 1190]</td>\n      <td>None</td>\n      <td>None</td>\n      <td>None</td>\n      <td>None</td>\n      <td>204</td>\n      <td>[[0.1630859375, 0.5537109375], [0.2509765625, ...</td>\n      <td>[]</td>\n      <td>475</td>\n      <td>[[0.1630859375, 0.5537109375], [0.2509765625, ...</td>\n      <td>2240</td>\n      <td>Place</td>\n      <td>0.980629</td>\n      <td>0.163086</td>\n      <td>0.554688</td>\n      <td>0.199219</td>\n      <td>0.566406</td>\n    </tr>\n    <tr>\n      <th>2241</th>\n      <td>12</td>\n      <td>[1684, 1190]</td>\n      <td>None</td>\n      <td>None</td>\n      <td>None</td>\n      <td>None</td>\n      <td>204</td>\n      <td>[[0.1630859375, 0.5537109375], [0.2509765625, ...</td>\n      <td>[]</td>\n      <td>475</td>\n      <td>[[0.1630859375, 0.5537109375], [0.2509765625, ...</td>\n      <td>2241</td>\n      <td>of</td>\n      <td>0.999805</td>\n      <td>0.198242</td>\n      <td>0.553711</td>\n      <td>0.216797</td>\n      <td>0.566406</td>\n    </tr>\n    <tr>\n      <th>2242</th>\n      <td>12</td>\n      <td>[1684, 1190]</td>\n      <td>None</td>\n      <td>None</td>\n      <td>None</td>\n      <td>None</td>\n      <td>204</td>\n      <td>[[0.1630859375, 0.5537109375], [0.2509765625, ...</td>\n      <td>[]</td>\n      <td>475</td>\n      <td>[[0.1630859375, 0.5537109375], [0.2509765625, ...</td>\n      <td>2242</td>\n      <td>Filing</td>\n      <td>0.998490</td>\n      <td>0.216797</td>\n      <td>0.555664</td>\n      <td>0.250977</td>\n      <td>0.567383</td>\n    </tr>\n    <tr>\n      <th>2243</th>\n      <td>12</td>\n      <td>[1684, 1190]</td>\n      <td>None</td>\n      <td>None</td>\n      <td>None</td>\n      <td>None</td>\n      <td>205</td>\n      <td>[[0.2939453125, 0.5654296875], [0.4833984375, ...</td>\n      <td>[]</td>\n      <td>476</td>\n      <td>[[0.294921875, 0.5654296875], [0.4375, 0.57617...</td>\n      <td>2243</td>\n      <td>COUNTY</td>\n      <td>0.885574</td>\n      <td>0.294922</td>\n      <td>0.565430</td>\n      <td>0.353516</td>\n      <td>0.576172</td>\n    </tr>\n    <tr>\n      <th>2244</th>\n      <td>12</td>\n      <td>[1684, 1190]</td>\n      <td>None</td>\n      <td>None</td>\n      <td>None</td>\n      <td>None</td>\n      <td>205</td>\n      <td>[[0.2939453125, 0.5654296875], [0.4833984375, ...</td>\n      <td>[]</td>\n      <td>476</td>\n      <td>[[0.294921875, 0.5654296875], [0.4375, 0.57617...</td>\n      <td>2244</td>\n      <td>RECORDER</td>\n      <td>0.986162</td>\n      <td>0.360352</td>\n      <td>0.565430</td>\n      <td>0.437500</td>\n      <td>0.576172</td>\n    </tr>\n    <tr>\n      <th>2245</th>\n      <td>12</td>\n      <td>[1684, 1190]</td>\n      <td>None</td>\n      <td>None</td>\n      <td>None</td>\n      <td>None</td>\n      <td>205</td>\n      <td>[[0.2939453125, 0.5654296875], [0.4833984375, ...</td>\n      <td>[]</td>\n      <td>477</td>\n      <td>[[0.294921875, 0.576171875], [0.41015625, 0.58...</td>\n      <td>2245</td>\n      <td>FLOYD</td>\n      <td>0.998953</td>\n      <td>0.294922</td>\n      <td>0.576172</td>\n      <td>0.344727</td>\n      <td>0.587891</td>\n    </tr>\n    <tr>\n      <th>2246</th>\n      <td>12</td>\n      <td>[1684, 1190]</td>\n      <td>None</td>\n      <td>None</td>\n      <td>None</td>\n      <td>None</td>\n      <td>205</td>\n      <td>[[0.2939453125, 0.5654296875], [0.4833984375, ...</td>\n      <td>[]</td>\n      <td>477</td>\n      <td>[[0.294921875, 0.576171875], [0.41015625, 0.58...</td>\n      <td>2246</td>\n      <td>COUNTY</td>\n      <td>0.986044</td>\n      <td>0.350586</td>\n      <td>0.576172</td>\n      <td>0.410156</td>\n      <td>0.586914</td>\n    </tr>\n  </tbody>\n</table>\n</div>"
     },
     "execution_count": 117,
     "metadata": {},
     "output_type": "execute_result"
    }
   ],
   "source": [
    "context[(context.line_idx < 478) & (context.line_idx > 473)]"
   ],
   "metadata": {
    "collapsed": false,
    "ExecuteTime": {
     "end_time": "2023-08-09T14:11:01.082241894Z",
     "start_time": "2023-08-09T14:11:00.971230327Z"
    }
   },
   "id": "6ec9ac7d7455094d"
  },
  {
   "cell_type": "code",
   "execution_count": 117,
   "outputs": [],
   "source": [],
   "metadata": {
    "collapsed": false,
    "ExecuteTime": {
     "end_time": "2023-08-09T14:11:01.082342285Z",
     "start_time": "2023-08-09T14:11:01.014859553Z"
    }
   },
   "id": "7b566e04e1d9cd9"
  }
 ],
 "metadata": {
  "kernelspec": {
   "display_name": "Python 3",
   "language": "python",
   "name": "python3"
  },
  "language_info": {
   "codemirror_mode": {
    "name": "ipython",
    "version": 2
   },
   "file_extension": ".py",
   "mimetype": "text/x-python",
   "name": "python",
   "nbconvert_exporter": "python",
   "pygments_lexer": "ipython2",
   "version": "2.7.6"
  }
 },
 "nbformat": 4,
 "nbformat_minor": 5
}

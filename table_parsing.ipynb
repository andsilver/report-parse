{
 "cells": [
  {
   "cell_type": "code",
   "execution_count": 1,
   "id": "initial_id",
   "metadata": {
    "collapsed": true,
    "ExecuteTime": {
     "end_time": "2023-08-09T09:53:47.408742778Z",
     "start_time": "2023-08-09T09:53:44.599963291Z"
    }
   },
   "outputs": [
    {
     "name": "stderr",
     "output_type": "stream",
     "text": [
      "2023-08-09 15:53:44.759531: I tensorflow/core/platform/cpu_feature_guard.cc:193] This TensorFlow binary is optimized with oneAPI Deep Neural Network Library (oneDNN) to use the following CPU instructions in performance-critical operations:  AVX2 FMA\n",
      "To enable them in other operations, rebuild TensorFlow with the appropriate compiler flags.\n",
      "2023-08-09 15:53:45.316505: W tensorflow/compiler/xla/stream_executor/platform/default/dso_loader.cc:64] Could not load dynamic library 'libnvinfer.so.7'; dlerror: libnvinfer.so.7: cannot open shared object file: No such file or directory\n",
      "2023-08-09 15:53:45.316548: W tensorflow/compiler/xla/stream_executor/platform/default/dso_loader.cc:64] Could not load dynamic library 'libnvinfer_plugin.so.7'; dlerror: libnvinfer_plugin.so.7: cannot open shared object file: No such file or directory\n",
      "2023-08-09 15:53:45.316554: W tensorflow/compiler/tf2tensorrt/utils/py_utils.cc:38] TF-TRT Warning: Cannot dlopen some TensorRT libraries. If you would like to use Nvidia GPU with TensorRT, please make sure the missing libraries mentioned above are installed properly.\n",
      "/home/sadid/.local/lib/python3.10/site-packages/tensorflow_addons/utils/tfa_eol_msg.py:23: UserWarning: \n",
      "\n",
      "TensorFlow Addons (TFA) has ended development and introduction of new features.\n",
      "TFA has entered a minimal maintenance and release mode until a planned end of life in May 2024.\n",
      "Please modify downstream libraries to take dependencies from other repositories in our TensorFlow community (e.g. Keras, Keras-CV, and Keras-NLP). \n",
      "\n",
      "For more information see: https://github.com/tensorflow/addons/issues/2807 \n",
      "\n",
      "  warnings.warn(\n"
     ]
    },
    {
     "name": "stdout",
     "output_type": "stream",
     "text": [
      "single positional indexer is out-of-bounds\n",
      "single positional indexer is out-of-bounds\n",
      "index 0 is out of bounds for axis 0 with size 0\n",
      "single positional indexer is out-of-bounds\n",
      "single positional indexer is out-of-bounds\n",
      "index 0 is out of bounds for axis 0 with size 0\n",
      "single positional indexer is out-of-bounds\n",
      "single positional indexer is out-of-bounds\n",
      "index 0 is out of bounds for axis 0 with size 0\n",
      "single positional indexer is out-of-bounds\n",
      "single positional indexer is out-of-bounds\n",
      "index 0 is out of bounds for axis 0 with size 0\n"
     ]
    },
    {
     "data": {
      "text/plain": "[{'Lien Type:': 'Federal Tax Lien',\n  'Filed Against:': None,\n  'Amount:': '$87,052.04',\n  'Recorded Date:': '01/10/2020',\n  'Recording Information:': None,\n  'Comment:': None},\n {'Lien Type:': 'Federal Tax Lien',\n  'Filed Against:': None,\n  'Amount:': '$35,986.01',\n  'Recorded Date:': '03/08/2010',\n  'Recording Information:': None,\n  'Comment:': None}]"
     },
     "execution_count": 1,
     "metadata": {},
     "output_type": "execute_result"
    }
   ],
   "source": [
    "import pandas as pd\n",
    "\n",
    "from main import ParseReport, fuzz\n",
    "\n",
    "report = ParseReport(file=\"result/TEST - Magellan - Cloud Example and Explanation.json\", json_file=True, save_json=False)\n",
    "report.get_lien()"
   ]
  },
  {
   "cell_type": "code",
   "execution_count": 2,
   "outputs": [
    {
     "data": {
      "text/plain": "       page_idx    dimensions orientation.value orientation.confidence  \\\nindex                                                                    \n0             0  [1684, 1190]              None                   None   \n1             0  [1684, 1190]              None                   None   \n2             0  [1684, 1190]              None                   None   \n3             0  [1684, 1190]              None                   None   \n4             0  [1684, 1190]              None                   None   \n\n      language.value language.confidence  block_idx  \\\nindex                                                 \n0               None                None          0   \n1               None                None          0   \n2               None                None          0   \n3               None                None          0   \n4               None                None          0   \n\n                                          block_geometry artefacts  line_idx  \\\nindex                                                                          \n0      [[0.4365234375, 0.0556640625], [0.9267578125, ...        []         0   \n1      [[0.4365234375, 0.0556640625], [0.9267578125, ...        []         0   \n2      [[0.4365234375, 0.0556640625], [0.9267578125, ...        []         0   \n3      [[0.4365234375, 0.0556640625], [0.9267578125, ...        []         0   \n4      [[0.4365234375, 0.0556640625], [0.9267578125, ...        []         0   \n\n                                           line_geometry  word_idx     value  \\\nindex                                                                          \n0      [[0.4365234375, 0.0556640625], [0.9267578125, ...         0  Southern   \n1      [[0.4365234375, 0.0556640625], [0.9267578125, ...         1   Indiana   \n2      [[0.4365234375, 0.0556640625], [0.9267578125, ...         2  Abstract   \n3      [[0.4365234375, 0.0556640625], [0.9267578125, ...         3  Company,   \n4      [[0.4365234375, 0.0556640625], [0.9267578125, ...         4       Inc   \n\n       confidence        x1        y1        x2        y2  \nindex                                                      \n0        0.999931  0.436523  0.056641  0.545898  0.074219  \n1        0.962854  0.552734  0.056641  0.643555  0.074219  \n2        0.979812  0.649414  0.058594  0.750977  0.073242  \n3        0.980987  0.756836  0.057617  0.879883  0.078125  \n4        0.987708  0.886719  0.055664  0.926758  0.075195  ",
      "text/html": "<div>\n<style scoped>\n    .dataframe tbody tr th:only-of-type {\n        vertical-align: middle;\n    }\n\n    .dataframe tbody tr th {\n        vertical-align: top;\n    }\n\n    .dataframe thead th {\n        text-align: right;\n    }\n</style>\n<table border=\"1\" class=\"dataframe\">\n  <thead>\n    <tr style=\"text-align: right;\">\n      <th></th>\n      <th>page_idx</th>\n      <th>dimensions</th>\n      <th>orientation.value</th>\n      <th>orientation.confidence</th>\n      <th>language.value</th>\n      <th>language.confidence</th>\n      <th>block_idx</th>\n      <th>block_geometry</th>\n      <th>artefacts</th>\n      <th>line_idx</th>\n      <th>line_geometry</th>\n      <th>word_idx</th>\n      <th>value</th>\n      <th>confidence</th>\n      <th>x1</th>\n      <th>y1</th>\n      <th>x2</th>\n      <th>y2</th>\n    </tr>\n    <tr>\n      <th>index</th>\n      <th></th>\n      <th></th>\n      <th></th>\n      <th></th>\n      <th></th>\n      <th></th>\n      <th></th>\n      <th></th>\n      <th></th>\n      <th></th>\n      <th></th>\n      <th></th>\n      <th></th>\n      <th></th>\n      <th></th>\n      <th></th>\n      <th></th>\n      <th></th>\n    </tr>\n  </thead>\n  <tbody>\n    <tr>\n      <th>0</th>\n      <td>0</td>\n      <td>[1684, 1190]</td>\n      <td>None</td>\n      <td>None</td>\n      <td>None</td>\n      <td>None</td>\n      <td>0</td>\n      <td>[[0.4365234375, 0.0556640625], [0.9267578125, ...</td>\n      <td>[]</td>\n      <td>0</td>\n      <td>[[0.4365234375, 0.0556640625], [0.9267578125, ...</td>\n      <td>0</td>\n      <td>Southern</td>\n      <td>0.999931</td>\n      <td>0.436523</td>\n      <td>0.056641</td>\n      <td>0.545898</td>\n      <td>0.074219</td>\n    </tr>\n    <tr>\n      <th>1</th>\n      <td>0</td>\n      <td>[1684, 1190]</td>\n      <td>None</td>\n      <td>None</td>\n      <td>None</td>\n      <td>None</td>\n      <td>0</td>\n      <td>[[0.4365234375, 0.0556640625], [0.9267578125, ...</td>\n      <td>[]</td>\n      <td>0</td>\n      <td>[[0.4365234375, 0.0556640625], [0.9267578125, ...</td>\n      <td>1</td>\n      <td>Indiana</td>\n      <td>0.962854</td>\n      <td>0.552734</td>\n      <td>0.056641</td>\n      <td>0.643555</td>\n      <td>0.074219</td>\n    </tr>\n    <tr>\n      <th>2</th>\n      <td>0</td>\n      <td>[1684, 1190]</td>\n      <td>None</td>\n      <td>None</td>\n      <td>None</td>\n      <td>None</td>\n      <td>0</td>\n      <td>[[0.4365234375, 0.0556640625], [0.9267578125, ...</td>\n      <td>[]</td>\n      <td>0</td>\n      <td>[[0.4365234375, 0.0556640625], [0.9267578125, ...</td>\n      <td>2</td>\n      <td>Abstract</td>\n      <td>0.979812</td>\n      <td>0.649414</td>\n      <td>0.058594</td>\n      <td>0.750977</td>\n      <td>0.073242</td>\n    </tr>\n    <tr>\n      <th>3</th>\n      <td>0</td>\n      <td>[1684, 1190]</td>\n      <td>None</td>\n      <td>None</td>\n      <td>None</td>\n      <td>None</td>\n      <td>0</td>\n      <td>[[0.4365234375, 0.0556640625], [0.9267578125, ...</td>\n      <td>[]</td>\n      <td>0</td>\n      <td>[[0.4365234375, 0.0556640625], [0.9267578125, ...</td>\n      <td>3</td>\n      <td>Company,</td>\n      <td>0.980987</td>\n      <td>0.756836</td>\n      <td>0.057617</td>\n      <td>0.879883</td>\n      <td>0.078125</td>\n    </tr>\n    <tr>\n      <th>4</th>\n      <td>0</td>\n      <td>[1684, 1190]</td>\n      <td>None</td>\n      <td>None</td>\n      <td>None</td>\n      <td>None</td>\n      <td>0</td>\n      <td>[[0.4365234375, 0.0556640625], [0.9267578125, ...</td>\n      <td>[]</td>\n      <td>0</td>\n      <td>[[0.4365234375, 0.0556640625], [0.9267578125, ...</td>\n      <td>4</td>\n      <td>Inc</td>\n      <td>0.987708</td>\n      <td>0.886719</td>\n      <td>0.055664</td>\n      <td>0.926758</td>\n      <td>0.075195</td>\n    </tr>\n  </tbody>\n</table>\n</div>"
     },
     "execution_count": 2,
     "metadata": {},
     "output_type": "execute_result"
    }
   ],
   "source": [
    "report.words.head()"
   ],
   "metadata": {
    "collapsed": false,
    "ExecuteTime": {
     "end_time": "2023-08-09T09:53:47.420412937Z",
     "start_time": "2023-08-09T09:53:47.407099444Z"
    }
   },
   "id": "cfbb4282e1f7e56b"
  },
  {
   "cell_type": "code",
   "execution_count": 3,
   "outputs": [
    {
     "data": {
      "text/plain": "       page_idx  block_idx  line_idx        x1        y1        x2        y2  \\\nindex                                                                          \n2374         13        222       517  0.424805  0.083984  0.485352  0.098633   \n2021         12        187       427  0.420898  0.089844  0.479492  0.101562   \n3020         15        269       681  0.250977  0.227539  0.312500  0.238281   \n\n         value         paired     space     align  score  \nindex                                                     \n2374    Notice    Notice Lien  0.133789  0.000000      0  \n2021    Notice    Notice Lien  0.134766  0.001465      0  \n3020   Notices  Notices Lien,  0.191406  0.092285      8  ",
      "text/html": "<div>\n<style scoped>\n    .dataframe tbody tr th:only-of-type {\n        vertical-align: middle;\n    }\n\n    .dataframe tbody tr th {\n        vertical-align: top;\n    }\n\n    .dataframe thead th {\n        text-align: right;\n    }\n</style>\n<table border=\"1\" class=\"dataframe\">\n  <thead>\n    <tr style=\"text-align: right;\">\n      <th></th>\n      <th>page_idx</th>\n      <th>block_idx</th>\n      <th>line_idx</th>\n      <th>x1</th>\n      <th>y1</th>\n      <th>x2</th>\n      <th>y2</th>\n      <th>value</th>\n      <th>paired</th>\n      <th>space</th>\n      <th>align</th>\n      <th>score</th>\n    </tr>\n    <tr>\n      <th>index</th>\n      <th></th>\n      <th></th>\n      <th></th>\n      <th></th>\n      <th></th>\n      <th></th>\n      <th></th>\n      <th></th>\n      <th></th>\n      <th></th>\n      <th></th>\n      <th></th>\n    </tr>\n  </thead>\n  <tbody>\n    <tr>\n      <th>2374</th>\n      <td>13</td>\n      <td>222</td>\n      <td>517</td>\n      <td>0.424805</td>\n      <td>0.083984</td>\n      <td>0.485352</td>\n      <td>0.098633</td>\n      <td>Notice</td>\n      <td>Notice Lien</td>\n      <td>0.133789</td>\n      <td>0.000000</td>\n      <td>0</td>\n    </tr>\n    <tr>\n      <th>2021</th>\n      <td>12</td>\n      <td>187</td>\n      <td>427</td>\n      <td>0.420898</td>\n      <td>0.089844</td>\n      <td>0.479492</td>\n      <td>0.101562</td>\n      <td>Notice</td>\n      <td>Notice Lien</td>\n      <td>0.134766</td>\n      <td>0.001465</td>\n      <td>0</td>\n    </tr>\n    <tr>\n      <th>3020</th>\n      <td>15</td>\n      <td>269</td>\n      <td>681</td>\n      <td>0.250977</td>\n      <td>0.227539</td>\n      <td>0.312500</td>\n      <td>0.238281</td>\n      <td>Notices</td>\n      <td>Notices Lien,</td>\n      <td>0.191406</td>\n      <td>0.092285</td>\n      <td>8</td>\n    </tr>\n  </tbody>\n</table>\n</div>"
     },
     "execution_count": 3,
     "metadata": {},
     "output_type": "execute_result"
    }
   ],
   "source": [
    "context = report.words\n",
    "word1, word2 = \"Notice\", \"Lien\"\n",
    "line = context[context['value'].str.contains(word1) | context['value'].str.contains(word2)][[\"page_idx\", \"block_idx\", \"line_idx\", \"x1\", \"y1\", \"x2\", \"y2\", \"value\"]]\n",
    "        \n",
    "line['paired']=  line.value + \" \" + line.value.shift(-1)\n",
    "line['space']=  line.x1.shift(-1) - line.x2\n",
    "line['align']=  (abs(line.y1.shift(-1) - line.y1) + (line.y2.shift(-1) - line.y2))/2\n",
    "\n",
    "line[\"score\"] = line[\"paired\"].apply(lambda x: 100 - fuzz.ratio(str(x), str(word1) + \" \" + str(word2)))\n",
    "line = line[line.score < 10]\n",
    "line = line.sort_values(by=['score', 'space', \"align\"])\n",
    "# line = line.iloc[0][[\"page_idx\", \"block_idx\", \"line_idx\", \"paired\"]]\n",
    "# line = context[(context['page_idx'] == line.page_idx.item()) & (context['block_idx'] == line.block_idx.item()) & (context['line_idx'] == line.line_idx.item())][\"value\"].values\n",
    "line"
   ],
   "metadata": {
    "collapsed": false,
    "ExecuteTime": {
     "end_time": "2023-08-09T09:53:47.456446043Z",
     "start_time": "2023-08-09T09:53:47.420779696Z"
    }
   },
   "id": "87724ae7bb31b085"
  },
  {
   "cell_type": "code",
   "execution_count": 4,
   "outputs": [
    {
     "data": {
      "text/plain": "array(['Notice', 'of', 'Federal', 'Tax', 'Lien'], dtype=object)"
     },
     "execution_count": 4,
     "metadata": {},
     "output_type": "execute_result"
    }
   ],
   "source": [
    "context = report.words\n",
    "word1, word2 = \"Notice\", \"Lien\"\n",
    "line = context[context['value'].str.contains(word1) | context['value'].str.contains(word2)][[\"page_idx\", \"block_idx\", \"line_idx\", \"x1\", \"y1\", \"x2\", \"y2\", \"value\"]]\n",
    "\n",
    "line['paired']=  line.value + \" \" + line.value.shift(-1)\n",
    "line['space']=  line.x1.shift(-1) - line.x2\n",
    "line['align']=  (abs(line.y1.shift(-1) - line.y1) + (line.y2.shift(-1) - line.y2))/2\n",
    "\n",
    "line[\"score\"] = line[\"paired\"].apply(lambda x: 100 - fuzz.ratio(str(x), str(word1) + \" \" + str(word2)))\n",
    "line = line[line.score < 10]\n",
    "line = line.sort_values(by=['score', 'space', \"align\"])\n",
    "result = line.iloc[0][[\"page_idx\", \"block_idx\", \"line_idx\", \"paired\"]]\n",
    "result = context[(context['page_idx'] == result.page_idx.item()) & (context['block_idx'] == result.block_idx.item()) & (context['line_idx'] == result.line_idx.item())][\"value\"].values\n",
    "result\n"
   ],
   "metadata": {
    "collapsed": false,
    "ExecuteTime": {
     "end_time": "2023-08-09T09:53:47.489064426Z",
     "start_time": "2023-08-09T09:53:47.438771366Z"
    }
   },
   "id": "905a150a0fb9036"
  },
  {
   "cell_type": "code",
   "execution_count": 5,
   "outputs": [
    {
     "data": {
      "text/plain": "array(['Notice', 'of', 'Federal', 'Tax', 'Lien'], dtype=object)"
     },
     "execution_count": 5,
     "metadata": {},
     "output_type": "execute_result"
    }
   ],
   "source": [
    "result = line.iloc[0][[\"page_idx\", \"block_idx\", \"line_idx\", \"paired\"]]\n",
    "result = context[(context['page_idx'] == result.page_idx.item()) & (context['block_idx'] == result.block_idx.item()) & (context['line_idx'] == result.line_idx.item())][\"value\"].values\n",
    "result"
   ],
   "metadata": {
    "collapsed": false,
    "ExecuteTime": {
     "end_time": "2023-08-09T09:53:47.490263375Z",
     "start_time": "2023-08-09T09:53:47.453275974Z"
    }
   },
   "id": "a1e43b05de12f306"
  },
  {
   "cell_type": "code",
   "execution_count": 6,
   "outputs": [
    {
     "data": {
      "text/plain": "       page_idx  block_idx  line_idx        x1       y1        x2        y2  \\\nindex                                                                         \n2222         12        201       467  0.731445  0.34082  0.779297  0.352539   \n\n        value          paired     space     align       x12      y12  \\\nindex                                                                  \n2222   Unpaid  Unpaid Balance  0.000977 -0.000488  0.780273  0.34082   \n\n            x22       y22  score  \nindex                             \n2222   0.830078  0.351562      0  ",
      "text/html": "<div>\n<style scoped>\n    .dataframe tbody tr th:only-of-type {\n        vertical-align: middle;\n    }\n\n    .dataframe tbody tr th {\n        vertical-align: top;\n    }\n\n    .dataframe thead th {\n        text-align: right;\n    }\n</style>\n<table border=\"1\" class=\"dataframe\">\n  <thead>\n    <tr style=\"text-align: right;\">\n      <th></th>\n      <th>page_idx</th>\n      <th>block_idx</th>\n      <th>line_idx</th>\n      <th>x1</th>\n      <th>y1</th>\n      <th>x2</th>\n      <th>y2</th>\n      <th>value</th>\n      <th>paired</th>\n      <th>space</th>\n      <th>align</th>\n      <th>x12</th>\n      <th>y12</th>\n      <th>x22</th>\n      <th>y22</th>\n      <th>score</th>\n    </tr>\n    <tr>\n      <th>index</th>\n      <th></th>\n      <th></th>\n      <th></th>\n      <th></th>\n      <th></th>\n      <th></th>\n      <th></th>\n      <th></th>\n      <th></th>\n      <th></th>\n      <th></th>\n      <th></th>\n      <th></th>\n      <th></th>\n      <th></th>\n      <th></th>\n    </tr>\n  </thead>\n  <tbody>\n    <tr>\n      <th>2222</th>\n      <td>12</td>\n      <td>201</td>\n      <td>467</td>\n      <td>0.731445</td>\n      <td>0.34082</td>\n      <td>0.779297</td>\n      <td>0.352539</td>\n      <td>Unpaid</td>\n      <td>Unpaid Balance</td>\n      <td>0.000977</td>\n      <td>-0.000488</td>\n      <td>0.780273</td>\n      <td>0.34082</td>\n      <td>0.830078</td>\n      <td>0.351562</td>\n      <td>0</td>\n    </tr>\n  </tbody>\n</table>\n</div>"
     },
     "execution_count": 6,
     "metadata": {},
     "output_type": "execute_result"
    }
   ],
   "source": [
    "word1, word2 = \"Unpaid\", \"Balance\"\n",
    "row = line.iloc[1][[\"page_idx\", \"block_idx\", \"line_idx\", \"paired\"]]\n",
    "c = report.words[(report.words.page_idx == row.page_idx)]\n",
    "column = c[c['value'].str.contains(word1) | c['value'].str.contains(word2)][[\"page_idx\", \"block_idx\", \"line_idx\", \"x1\", \"y1\", \"x2\", \"y2\", \"value\"]]\n",
    "column['paired']=  column.value + \" \" + column.value.shift(-1)\n",
    "column['space']=  abs(column.x1.shift(-1) - column.x2)\n",
    "column['align']=  (abs(column.y1.shift(-1) - column.y1) + (column.y2.shift(-1) - column.y2))/2\n",
    "\n",
    "column['x12']=  column.x1.shift(-1)\n",
    "column['y12']=  column.y1.shift(-1)\n",
    "column['x22']=  column.x2.shift(-1)\n",
    "column['y22']=  column.y2.shift(-1)\n",
    "\n",
    "column[\"score\"] = column[\"paired\"].apply(lambda x: 100 - fuzz.ratio(str(x), str(word1) + \" \" + str(word2)))\n",
    "column = column[column.score < 10]\n",
    "column = column.sort_values(by=['score', 'space', \"align\"])\n",
    "column"
   ],
   "metadata": {
    "collapsed": false,
    "ExecuteTime": {
     "end_time": "2023-08-09T09:53:47.596808180Z",
     "start_time": "2023-08-09T09:53:47.459862064Z"
    }
   },
   "id": "852c35bbc51d1ec7"
  },
  {
   "cell_type": "code",
   "execution_count": 7,
   "outputs": [
    {
     "data": {
      "text/plain": "Empty DataFrame\nColumns: [value, line_idx]\nIndex: []",
      "text/html": "<div>\n<style scoped>\n    .dataframe tbody tr th:only-of-type {\n        vertical-align: middle;\n    }\n\n    .dataframe tbody tr th {\n        vertical-align: top;\n    }\n\n    .dataframe thead th {\n        text-align: right;\n    }\n</style>\n<table border=\"1\" class=\"dataframe\">\n  <thead>\n    <tr style=\"text-align: right;\">\n      <th></th>\n      <th>value</th>\n      <th>line_idx</th>\n    </tr>\n    <tr>\n      <th>index</th>\n      <th></th>\n      <th></th>\n    </tr>\n  </thead>\n  <tbody>\n  </tbody>\n</table>\n</div>"
     },
     "execution_count": 7,
     "metadata": {},
     "output_type": "execute_result"
    }
   ],
   "source": [
    "c[(c.block_idx==231)][[\"value\", \"line_idx\"]]"
   ],
   "metadata": {
    "collapsed": false,
    "ExecuteTime": {
     "end_time": "2023-08-09T09:53:47.597536475Z",
     "start_time": "2023-08-09T09:53:47.476307120Z"
    }
   },
   "id": "e00d57bddd2106a4"
  },
  {
   "cell_type": "code",
   "execution_count": 8,
   "outputs": [
    {
     "name": "stdout",
     "output_type": "stream",
     "text": [
      "(f) 0.0 1.0 0.0126953125\n",
      "False\n",
      "False\n",
      "True\n",
      "0\n",
      "25423.95 0.0 1.0 0.189453125\n",
      "False\n",
      "False\n",
      "False\n",
      "1\n",
      "10562.06 5.0 8.0 0.0009765625\n",
      "True\n",
      "True\n",
      "False\n",
      "2\n"
     ]
    },
    {
     "name": "stderr",
     "output_type": "stream",
     "text": [
      "/tmp/ipykernel_106238/1242024779.py:4: SettingWithCopyWarning: \n",
      "A value is trying to be set on a copy of a slice from a DataFrame.\n",
      "Try using .loc[row_indexer,col_indexer] = value instead\n",
      "\n",
      "See the caveats in the documentation: https://pandas.pydata.org/pandas-docs/stable/user_guide/indexing.html#returning-a-view-versus-a-copy\n",
      "  column_data['hd']=  abs(column_data.y1.shift(-1) - column.y2.item())\n"
     ]
    },
    {
     "data": {
      "text/plain": "         value  block_idx  line_idx       hd2        hd       h2d  bid   lid\n0          (f)        201       469  0.011719  0.019531  0.012695  0.0   1.0\n1     25423.95        201       470  0.012695  0.032227  0.189453  0.0   1.0\n2     10562.06        201       471  0.189453  0.221680  0.000977  5.0   8.0\n3            $        206       479  0.049805  0.222656  0.047852  1.0   2.0\n4           on        207       481 -0.048828  0.270508  0.000977  0.0   1.0\n5     35986.01        207       480  0.047852  0.271484  0.068359  0.0   1.0\n6        this,        207       481  0.095703  0.339844  0.024414  7.0  19.0\n7          Tax        214       500  0.020508  0.364258  0.000977  1.0   1.0\n8       60025X        213       499 -0.020508  0.365234  0.000000  1.0   1.0\n9           of        214       500 -0.000977  0.365234  0.000977  0.0   0.0\n10     Federal        214       500  0.000000  0.366211  0.000000  0.0   0.0\n11      Notice        214       500  0.012695  0.366211  0.011719  1.0   2.0\n12       (Rev.        213       498 -0.038086  0.377930  0.000000  0.0   1.0\n13  24-09-1905        213       497  0.038086  0.377930  0.000000  0.0   1.0\n14   668(Y)(c)        213       498  0.000000  0.377930  0.008789  0.0   0.0\n15     2-2004)        213       498  0.009766  0.386719  0.000000  0.0   1.0\n16          NO        213       499 -0.000977  0.386719  0.000977  0.0   0.0\n17        CAT.        213       499 -0.022461  0.387695       NaN  1.0   1.0\n18        lien        214       500       NaN       NaN       NaN  NaN   NaN",
      "text/html": "<div>\n<style scoped>\n    .dataframe tbody tr th:only-of-type {\n        vertical-align: middle;\n    }\n\n    .dataframe tbody tr th {\n        vertical-align: top;\n    }\n\n    .dataframe thead th {\n        text-align: right;\n    }\n</style>\n<table border=\"1\" class=\"dataframe\">\n  <thead>\n    <tr style=\"text-align: right;\">\n      <th></th>\n      <th>value</th>\n      <th>block_idx</th>\n      <th>line_idx</th>\n      <th>hd2</th>\n      <th>hd</th>\n      <th>h2d</th>\n      <th>bid</th>\n      <th>lid</th>\n    </tr>\n  </thead>\n  <tbody>\n    <tr>\n      <th>0</th>\n      <td>(f)</td>\n      <td>201</td>\n      <td>469</td>\n      <td>0.011719</td>\n      <td>0.019531</td>\n      <td>0.012695</td>\n      <td>0.0</td>\n      <td>1.0</td>\n    </tr>\n    <tr>\n      <th>1</th>\n      <td>25423.95</td>\n      <td>201</td>\n      <td>470</td>\n      <td>0.012695</td>\n      <td>0.032227</td>\n      <td>0.189453</td>\n      <td>0.0</td>\n      <td>1.0</td>\n    </tr>\n    <tr>\n      <th>2</th>\n      <td>10562.06</td>\n      <td>201</td>\n      <td>471</td>\n      <td>0.189453</td>\n      <td>0.221680</td>\n      <td>0.000977</td>\n      <td>5.0</td>\n      <td>8.0</td>\n    </tr>\n    <tr>\n      <th>3</th>\n      <td>$</td>\n      <td>206</td>\n      <td>479</td>\n      <td>0.049805</td>\n      <td>0.222656</td>\n      <td>0.047852</td>\n      <td>1.0</td>\n      <td>2.0</td>\n    </tr>\n    <tr>\n      <th>4</th>\n      <td>on</td>\n      <td>207</td>\n      <td>481</td>\n      <td>-0.048828</td>\n      <td>0.270508</td>\n      <td>0.000977</td>\n      <td>0.0</td>\n      <td>1.0</td>\n    </tr>\n    <tr>\n      <th>5</th>\n      <td>35986.01</td>\n      <td>207</td>\n      <td>480</td>\n      <td>0.047852</td>\n      <td>0.271484</td>\n      <td>0.068359</td>\n      <td>0.0</td>\n      <td>1.0</td>\n    </tr>\n    <tr>\n      <th>6</th>\n      <td>this,</td>\n      <td>207</td>\n      <td>481</td>\n      <td>0.095703</td>\n      <td>0.339844</td>\n      <td>0.024414</td>\n      <td>7.0</td>\n      <td>19.0</td>\n    </tr>\n    <tr>\n      <th>7</th>\n      <td>Tax</td>\n      <td>214</td>\n      <td>500</td>\n      <td>0.020508</td>\n      <td>0.364258</td>\n      <td>0.000977</td>\n      <td>1.0</td>\n      <td>1.0</td>\n    </tr>\n    <tr>\n      <th>8</th>\n      <td>60025X</td>\n      <td>213</td>\n      <td>499</td>\n      <td>-0.020508</td>\n      <td>0.365234</td>\n      <td>0.000000</td>\n      <td>1.0</td>\n      <td>1.0</td>\n    </tr>\n    <tr>\n      <th>9</th>\n      <td>of</td>\n      <td>214</td>\n      <td>500</td>\n      <td>-0.000977</td>\n      <td>0.365234</td>\n      <td>0.000977</td>\n      <td>0.0</td>\n      <td>0.0</td>\n    </tr>\n    <tr>\n      <th>10</th>\n      <td>Federal</td>\n      <td>214</td>\n      <td>500</td>\n      <td>0.000000</td>\n      <td>0.366211</td>\n      <td>0.000000</td>\n      <td>0.0</td>\n      <td>0.0</td>\n    </tr>\n    <tr>\n      <th>11</th>\n      <td>Notice</td>\n      <td>214</td>\n      <td>500</td>\n      <td>0.012695</td>\n      <td>0.366211</td>\n      <td>0.011719</td>\n      <td>1.0</td>\n      <td>2.0</td>\n    </tr>\n    <tr>\n      <th>12</th>\n      <td>(Rev.</td>\n      <td>213</td>\n      <td>498</td>\n      <td>-0.038086</td>\n      <td>0.377930</td>\n      <td>0.000000</td>\n      <td>0.0</td>\n      <td>1.0</td>\n    </tr>\n    <tr>\n      <th>13</th>\n      <td>24-09-1905</td>\n      <td>213</td>\n      <td>497</td>\n      <td>0.038086</td>\n      <td>0.377930</td>\n      <td>0.000000</td>\n      <td>0.0</td>\n      <td>1.0</td>\n    </tr>\n    <tr>\n      <th>14</th>\n      <td>668(Y)(c)</td>\n      <td>213</td>\n      <td>498</td>\n      <td>0.000000</td>\n      <td>0.377930</td>\n      <td>0.008789</td>\n      <td>0.0</td>\n      <td>0.0</td>\n    </tr>\n    <tr>\n      <th>15</th>\n      <td>2-2004)</td>\n      <td>213</td>\n      <td>498</td>\n      <td>0.009766</td>\n      <td>0.386719</td>\n      <td>0.000000</td>\n      <td>0.0</td>\n      <td>1.0</td>\n    </tr>\n    <tr>\n      <th>16</th>\n      <td>NO</td>\n      <td>213</td>\n      <td>499</td>\n      <td>-0.000977</td>\n      <td>0.386719</td>\n      <td>0.000977</td>\n      <td>0.0</td>\n      <td>0.0</td>\n    </tr>\n    <tr>\n      <th>17</th>\n      <td>CAT.</td>\n      <td>213</td>\n      <td>499</td>\n      <td>-0.022461</td>\n      <td>0.387695</td>\n      <td>NaN</td>\n      <td>1.0</td>\n      <td>1.0</td>\n    </tr>\n    <tr>\n      <th>18</th>\n      <td>lien</td>\n      <td>214</td>\n      <td>500</td>\n      <td>NaN</td>\n      <td>NaN</td>\n      <td>NaN</td>\n      <td>NaN</td>\n      <td>NaN</td>\n    </tr>\n  </tbody>\n</table>\n</div>"
     },
     "execution_count": 8,
     "metadata": {},
     "output_type": "execute_result"
    }
   ],
   "source": [
    "right = 0.03\n",
    "left = 0.03\n",
    "column_data = c[(c.x1 >= column.x1.item() - left) & (c.x2 <= column.x22.item() + right) & (c.y1 >= column.y2.item())]\n",
    "column_data['hd']=  abs(column_data.y1.shift(-1) - column.y2.item())\n",
    "column_data = column_data.sort_values(by=['hd'])\n",
    "column_data['bid']=  abs(column_data.block_idx.shift(-1) - column_data.block_idx)\n",
    "column_data['lid']=  abs(column_data.line_idx.shift(-1) - column_data.line_idx)\n",
    "column_data['h2d']=  abs(column_data.hd.shift(-1) - column_data.hd)\n",
    "column_data = column_data.sort_values(by=['hd', 'h2d', 'bid', \"lid\"])\n",
    "column_data = column_data.reset_index(drop=True)\n",
    "column_data['hd2']=  column_data.y1.shift(-1) - column_data.y1\n",
    "values = []\n",
    "\n",
    "for i, k in column_data.iterrows():\n",
    "    print(k.value, k.bid, k.lid, k.h2d)\n",
    "    print(k.bid - column_data.iloc[i + 1].bid.item() > 0)\n",
    "    print(k.lid - column_data.iloc[i + 1].lid.item() > 0)\n",
    "    print(column_data.iloc[i + 1].h2d.item() > 0.12)\n",
    "    print(i)\n",
    "\n",
    "    if k.hd > 0.2 or column_data.iloc[i + 1].h2d.item() > 0.2:\n",
    "    # print(column_data.bid - column_data.iloc[i + 1].bid.item())\n",
    "    # print(k.bid - column_data.iloc[i + 1].bid.item())\n",
    "        break\n",
    "    else:\n",
    "        values.append(k.value)\n",
    "\n",
    "# values\n",
    "column_data[[\"value\", \"block_idx\", \"line_idx\", \"hd2\", 'hd', 'h2d', 'bid', \"lid\"]]"
   ],
   "metadata": {
    "collapsed": false,
    "ExecuteTime": {
     "end_time": "2023-08-09T09:53:47.600801651Z",
     "start_time": "2023-08-09T09:53:47.489996439Z"
    }
   },
   "id": "bc9f094d03a92dbc"
  },
  {
   "cell_type": "code",
   "execution_count": 8,
   "outputs": [],
   "source": [],
   "metadata": {
    "collapsed": false,
    "ExecuteTime": {
     "end_time": "2023-08-09T09:53:47.641914565Z",
     "start_time": "2023-08-09T09:53:47.503981273Z"
    }
   },
   "id": "2fc023cbb6fc77f4"
  },
  {
   "cell_type": "code",
   "execution_count": 8,
   "outputs": [],
   "source": [],
   "metadata": {
    "collapsed": false,
    "ExecuteTime": {
     "end_time": "2023-08-09T09:53:47.642221306Z",
     "start_time": "2023-08-09T09:53:47.506585186Z"
    }
   },
   "id": "ea464c18872c57d6"
  },
  {
   "cell_type": "code",
   "execution_count": 8,
   "outputs": [],
   "source": [],
   "metadata": {
    "collapsed": false,
    "ExecuteTime": {
     "end_time": "2023-08-09T09:53:47.642800484Z",
     "start_time": "2023-08-09T09:53:47.508791466Z"
    }
   },
   "id": "6aea8fbc3fb9403a"
  },
  {
   "cell_type": "code",
   "execution_count": 8,
   "outputs": [],
   "source": [],
   "metadata": {
    "collapsed": false,
    "ExecuteTime": {
     "end_time": "2023-08-09T09:53:47.642961769Z",
     "start_time": "2023-08-09T09:53:47.552553928Z"
    }
   },
   "id": "a21430ec8ffaaa3"
  }
 ],
 "metadata": {
  "kernelspec": {
   "display_name": "Python 3",
   "language": "python",
   "name": "python3"
  },
  "language_info": {
   "codemirror_mode": {
    "name": "ipython",
    "version": 2
   },
   "file_extension": ".py",
   "mimetype": "text/x-python",
   "name": "python",
   "nbconvert_exporter": "python",
   "pygments_lexer": "ipython2",
   "version": "2.7.6"
  }
 },
 "nbformat": 4,
 "nbformat_minor": 5
}

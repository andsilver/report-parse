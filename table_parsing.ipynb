{
 "cells": [
  {
   "cell_type": "code",
   "execution_count": 128,
   "id": "initial_id",
   "metadata": {
    "collapsed": true,
    "ExecuteTime": {
     "end_time": "2023-08-09T06:46:06.452511322Z",
     "start_time": "2023-08-09T06:46:06.328626538Z"
    }
   },
   "outputs": [
    {
     "name": "stdout",
     "output_type": "stream",
     "text": [
      "single positional indexer is out-of-bounds\n",
      "single positional indexer is out-of-bounds\n",
      "index 0 is out of bounds for axis 0 with size 0\n",
      "single positional indexer is out-of-bounds\n",
      "single positional indexer is out-of-bounds\n",
      "index 0 is out of bounds for axis 0 with size 0\n",
      "single positional indexer is out-of-bounds\n",
      "single positional indexer is out-of-bounds\n",
      "index 0 is out of bounds for axis 0 with size 0\n",
      "single positional indexer is out-of-bounds\n",
      "single positional indexer is out-of-bounds\n",
      "index 0 is out of bounds for axis 0 with size 0\n"
     ]
    },
    {
     "data": {
      "text/plain": "[{'Lien Type:': 'Federal Tax Lien',\n  'Filed Against:': None,\n  'Amount:': '$87,052.04',\n  'Recorded Date:': '01/10/2020',\n  'Recording Information:': None,\n  'Comment:': None},\n {'Lien Type:': 'Federal Tax Lien',\n  'Filed Against:': None,\n  'Amount:': '$35,986.01',\n  'Recorded Date:': '03/08/2010',\n  'Recording Information:': None,\n  'Comment:': None}]"
     },
     "execution_count": 128,
     "metadata": {},
     "output_type": "execute_result"
    }
   ],
   "source": [
    "import pandas as pd\n",
    "\n",
    "from main import ParseReport, fuzz\n",
    "\n",
    "report = ParseReport(file=\"result/TEST - Magellan - Cloud Example and Explanation.json\", json_file=True, save_json=False)\n",
    "report.get_lien()"
   ]
  },
  {
   "cell_type": "code",
   "execution_count": 129,
   "outputs": [
    {
     "data": {
      "text/plain": "       page_idx    dimensions orientation.value orientation.confidence  \\\nindex                                                                    \n0             0  [1684, 1190]              None                   None   \n1             0  [1684, 1190]              None                   None   \n2             0  [1684, 1190]              None                   None   \n3             0  [1684, 1190]              None                   None   \n4             0  [1684, 1190]              None                   None   \n\n      language.value language.confidence  block_idx  \\\nindex                                                 \n0               None                None          0   \n1               None                None          0   \n2               None                None          0   \n3               None                None          0   \n4               None                None          0   \n\n                                          block_geometry artefacts  line_idx  \\\nindex                                                                          \n0      [[0.4365234375, 0.0556640625], [0.9267578125, ...        []         0   \n1      [[0.4365234375, 0.0556640625], [0.9267578125, ...        []         0   \n2      [[0.4365234375, 0.0556640625], [0.9267578125, ...        []         0   \n3      [[0.4365234375, 0.0556640625], [0.9267578125, ...        []         0   \n4      [[0.4365234375, 0.0556640625], [0.9267578125, ...        []         0   \n\n                                           line_geometry  word_idx     value  \\\nindex                                                                          \n0      [[0.4365234375, 0.0556640625], [0.9267578125, ...         0  Southern   \n1      [[0.4365234375, 0.0556640625], [0.9267578125, ...         1   Indiana   \n2      [[0.4365234375, 0.0556640625], [0.9267578125, ...         2  Abstract   \n3      [[0.4365234375, 0.0556640625], [0.9267578125, ...         3  Company,   \n4      [[0.4365234375, 0.0556640625], [0.9267578125, ...         4       Inc   \n\n       confidence        x1        y1        x2        y2  \nindex                                                      \n0        0.999931  0.436523  0.056641  0.545898  0.074219  \n1        0.962854  0.552734  0.056641  0.643555  0.074219  \n2        0.979812  0.649414  0.058594  0.750977  0.073242  \n3        0.980987  0.756836  0.057617  0.879883  0.078125  \n4        0.987708  0.886719  0.055664  0.926758  0.075195  ",
      "text/html": "<div>\n<style scoped>\n    .dataframe tbody tr th:only-of-type {\n        vertical-align: middle;\n    }\n\n    .dataframe tbody tr th {\n        vertical-align: top;\n    }\n\n    .dataframe thead th {\n        text-align: right;\n    }\n</style>\n<table border=\"1\" class=\"dataframe\">\n  <thead>\n    <tr style=\"text-align: right;\">\n      <th></th>\n      <th>page_idx</th>\n      <th>dimensions</th>\n      <th>orientation.value</th>\n      <th>orientation.confidence</th>\n      <th>language.value</th>\n      <th>language.confidence</th>\n      <th>block_idx</th>\n      <th>block_geometry</th>\n      <th>artefacts</th>\n      <th>line_idx</th>\n      <th>line_geometry</th>\n      <th>word_idx</th>\n      <th>value</th>\n      <th>confidence</th>\n      <th>x1</th>\n      <th>y1</th>\n      <th>x2</th>\n      <th>y2</th>\n    </tr>\n    <tr>\n      <th>index</th>\n      <th></th>\n      <th></th>\n      <th></th>\n      <th></th>\n      <th></th>\n      <th></th>\n      <th></th>\n      <th></th>\n      <th></th>\n      <th></th>\n      <th></th>\n      <th></th>\n      <th></th>\n      <th></th>\n      <th></th>\n      <th></th>\n      <th></th>\n      <th></th>\n    </tr>\n  </thead>\n  <tbody>\n    <tr>\n      <th>0</th>\n      <td>0</td>\n      <td>[1684, 1190]</td>\n      <td>None</td>\n      <td>None</td>\n      <td>None</td>\n      <td>None</td>\n      <td>0</td>\n      <td>[[0.4365234375, 0.0556640625], [0.9267578125, ...</td>\n      <td>[]</td>\n      <td>0</td>\n      <td>[[0.4365234375, 0.0556640625], [0.9267578125, ...</td>\n      <td>0</td>\n      <td>Southern</td>\n      <td>0.999931</td>\n      <td>0.436523</td>\n      <td>0.056641</td>\n      <td>0.545898</td>\n      <td>0.074219</td>\n    </tr>\n    <tr>\n      <th>1</th>\n      <td>0</td>\n      <td>[1684, 1190]</td>\n      <td>None</td>\n      <td>None</td>\n      <td>None</td>\n      <td>None</td>\n      <td>0</td>\n      <td>[[0.4365234375, 0.0556640625], [0.9267578125, ...</td>\n      <td>[]</td>\n      <td>0</td>\n      <td>[[0.4365234375, 0.0556640625], [0.9267578125, ...</td>\n      <td>1</td>\n      <td>Indiana</td>\n      <td>0.962854</td>\n      <td>0.552734</td>\n      <td>0.056641</td>\n      <td>0.643555</td>\n      <td>0.074219</td>\n    </tr>\n    <tr>\n      <th>2</th>\n      <td>0</td>\n      <td>[1684, 1190]</td>\n      <td>None</td>\n      <td>None</td>\n      <td>None</td>\n      <td>None</td>\n      <td>0</td>\n      <td>[[0.4365234375, 0.0556640625], [0.9267578125, ...</td>\n      <td>[]</td>\n      <td>0</td>\n      <td>[[0.4365234375, 0.0556640625], [0.9267578125, ...</td>\n      <td>2</td>\n      <td>Abstract</td>\n      <td>0.979812</td>\n      <td>0.649414</td>\n      <td>0.058594</td>\n      <td>0.750977</td>\n      <td>0.073242</td>\n    </tr>\n    <tr>\n      <th>3</th>\n      <td>0</td>\n      <td>[1684, 1190]</td>\n      <td>None</td>\n      <td>None</td>\n      <td>None</td>\n      <td>None</td>\n      <td>0</td>\n      <td>[[0.4365234375, 0.0556640625], [0.9267578125, ...</td>\n      <td>[]</td>\n      <td>0</td>\n      <td>[[0.4365234375, 0.0556640625], [0.9267578125, ...</td>\n      <td>3</td>\n      <td>Company,</td>\n      <td>0.980987</td>\n      <td>0.756836</td>\n      <td>0.057617</td>\n      <td>0.879883</td>\n      <td>0.078125</td>\n    </tr>\n    <tr>\n      <th>4</th>\n      <td>0</td>\n      <td>[1684, 1190]</td>\n      <td>None</td>\n      <td>None</td>\n      <td>None</td>\n      <td>None</td>\n      <td>0</td>\n      <td>[[0.4365234375, 0.0556640625], [0.9267578125, ...</td>\n      <td>[]</td>\n      <td>0</td>\n      <td>[[0.4365234375, 0.0556640625], [0.9267578125, ...</td>\n      <td>4</td>\n      <td>Inc</td>\n      <td>0.987708</td>\n      <td>0.886719</td>\n      <td>0.055664</td>\n      <td>0.926758</td>\n      <td>0.075195</td>\n    </tr>\n  </tbody>\n</table>\n</div>"
     },
     "execution_count": 129,
     "metadata": {},
     "output_type": "execute_result"
    }
   ],
   "source": [
    "report.words.head()"
   ],
   "metadata": {
    "collapsed": false,
    "ExecuteTime": {
     "end_time": "2023-08-09T06:46:06.454759655Z",
     "start_time": "2023-08-09T06:46:06.422837138Z"
    }
   },
   "id": "cfbb4282e1f7e56b"
  },
  {
   "cell_type": "code",
   "execution_count": 130,
   "outputs": [
    {
     "data": {
      "text/plain": "       page_idx  block_idx  line_idx        x1        y1        x2        y2  \\\nindex                                                                          \n2374         13        222       517  0.424805  0.083984  0.485352  0.098633   \n2021         12        187       427  0.420898  0.089844  0.479492  0.101562   \n3020         15        269       681  0.250977  0.227539  0.312500  0.238281   \n\n         value         paired     space     align  score  \nindex                                                     \n2374    Notice    Notice Lien  0.133789  0.000000      0  \n2021    Notice    Notice Lien  0.134766  0.001465      0  \n3020   Notices  Notices Lien,  0.191406  0.092285      8  ",
      "text/html": "<div>\n<style scoped>\n    .dataframe tbody tr th:only-of-type {\n        vertical-align: middle;\n    }\n\n    .dataframe tbody tr th {\n        vertical-align: top;\n    }\n\n    .dataframe thead th {\n        text-align: right;\n    }\n</style>\n<table border=\"1\" class=\"dataframe\">\n  <thead>\n    <tr style=\"text-align: right;\">\n      <th></th>\n      <th>page_idx</th>\n      <th>block_idx</th>\n      <th>line_idx</th>\n      <th>x1</th>\n      <th>y1</th>\n      <th>x2</th>\n      <th>y2</th>\n      <th>value</th>\n      <th>paired</th>\n      <th>space</th>\n      <th>align</th>\n      <th>score</th>\n    </tr>\n    <tr>\n      <th>index</th>\n      <th></th>\n      <th></th>\n      <th></th>\n      <th></th>\n      <th></th>\n      <th></th>\n      <th></th>\n      <th></th>\n      <th></th>\n      <th></th>\n      <th></th>\n      <th></th>\n    </tr>\n  </thead>\n  <tbody>\n    <tr>\n      <th>2374</th>\n      <td>13</td>\n      <td>222</td>\n      <td>517</td>\n      <td>0.424805</td>\n      <td>0.083984</td>\n      <td>0.485352</td>\n      <td>0.098633</td>\n      <td>Notice</td>\n      <td>Notice Lien</td>\n      <td>0.133789</td>\n      <td>0.000000</td>\n      <td>0</td>\n    </tr>\n    <tr>\n      <th>2021</th>\n      <td>12</td>\n      <td>187</td>\n      <td>427</td>\n      <td>0.420898</td>\n      <td>0.089844</td>\n      <td>0.479492</td>\n      <td>0.101562</td>\n      <td>Notice</td>\n      <td>Notice Lien</td>\n      <td>0.134766</td>\n      <td>0.001465</td>\n      <td>0</td>\n    </tr>\n    <tr>\n      <th>3020</th>\n      <td>15</td>\n      <td>269</td>\n      <td>681</td>\n      <td>0.250977</td>\n      <td>0.227539</td>\n      <td>0.312500</td>\n      <td>0.238281</td>\n      <td>Notices</td>\n      <td>Notices Lien,</td>\n      <td>0.191406</td>\n      <td>0.092285</td>\n      <td>8</td>\n    </tr>\n  </tbody>\n</table>\n</div>"
     },
     "execution_count": 130,
     "metadata": {},
     "output_type": "execute_result"
    }
   ],
   "source": [
    "context = report.words\n",
    "word1, word2 = \"Notice\", \"Lien\"\n",
    "line = context[context['value'].str.contains(word1) | context['value'].str.contains(word2)][[\"page_idx\", \"block_idx\", \"line_idx\", \"x1\", \"y1\", \"x2\", \"y2\", \"value\"]]\n",
    "        \n",
    "line['paired']=  line.value + \" \" + line.value.shift(-1)\n",
    "line['space']=  line.x1.shift(-1) - line.x2\n",
    "line['align']=  (abs(line.y1.shift(-1) - line.y1) + (line.y2.shift(-1) - line.y2))/2\n",
    "\n",
    "line[\"score\"] = line[\"paired\"].apply(lambda x: 100 - fuzz.ratio(str(x), str(word1) + \" \" + str(word2)))\n",
    "line = line[line.score < 10]\n",
    "line = line.sort_values(by=['score', 'space', \"align\"])\n",
    "# line = line.iloc[0][[\"page_idx\", \"block_idx\", \"line_idx\", \"paired\"]]\n",
    "# line = context[(context['page_idx'] == line.page_idx.item()) & (context['block_idx'] == line.block_idx.item()) & (context['line_idx'] == line.line_idx.item())][\"value\"].values\n",
    "line"
   ],
   "metadata": {
    "collapsed": false,
    "ExecuteTime": {
     "end_time": "2023-08-09T06:46:06.455923419Z",
     "start_time": "2023-08-09T06:46:06.437636659Z"
    }
   },
   "id": "87724ae7bb31b085"
  },
  {
   "cell_type": "code",
   "execution_count": 131,
   "outputs": [
    {
     "data": {
      "text/plain": "array(['Notice', 'of', 'Federal', 'Tax', 'Lien'], dtype=object)"
     },
     "execution_count": 131,
     "metadata": {},
     "output_type": "execute_result"
    }
   ],
   "source": [
    "context = report.words\n",
    "word1, word2 = \"Notice\", \"Lien\"\n",
    "line = context[context['value'].str.contains(word1) | context['value'].str.contains(word2)][[\"page_idx\", \"block_idx\", \"line_idx\", \"x1\", \"y1\", \"x2\", \"y2\", \"value\"]]\n",
    "\n",
    "line['paired']=  line.value + \" \" + line.value.shift(-1)\n",
    "line['space']=  line.x1.shift(-1) - line.x2\n",
    "line['align']=  (abs(line.y1.shift(-1) - line.y1) + (line.y2.shift(-1) - line.y2))/2\n",
    "\n",
    "line[\"score\"] = line[\"paired\"].apply(lambda x: 100 - fuzz.ratio(str(x), str(word1) + \" \" + str(word2)))\n",
    "line = line[line.score < 10]\n",
    "line = line.sort_values(by=['score', 'space', \"align\"])\n",
    "result = line.iloc[0][[\"page_idx\", \"block_idx\", \"line_idx\", \"paired\"]]\n",
    "result = context[(context['page_idx'] == result.page_idx.item()) & (context['block_idx'] == result.block_idx.item()) & (context['line_idx'] == result.line_idx.item())][\"value\"].values\n",
    "result\n"
   ],
   "metadata": {
    "collapsed": false,
    "ExecuteTime": {
     "end_time": "2023-08-09T06:46:06.619656045Z",
     "start_time": "2023-08-09T06:46:06.464005925Z"
    }
   },
   "id": "905a150a0fb9036"
  },
  {
   "cell_type": "code",
   "execution_count": 132,
   "outputs": [
    {
     "data": {
      "text/plain": "array(['Notice', 'of', 'Federal', 'Tax', 'Lien'], dtype=object)"
     },
     "execution_count": 132,
     "metadata": {},
     "output_type": "execute_result"
    }
   ],
   "source": [
    "result = line.iloc[1][[\"page_idx\", \"block_idx\", \"line_idx\", \"paired\"]]\n",
    "result = context[(context['page_idx'] == result.page_idx.item()) & (context['block_idx'] == result.block_idx.item()) & (context['line_idx'] == result.line_idx.item())][\"value\"].values\n",
    "result"
   ],
   "metadata": {
    "collapsed": false,
    "ExecuteTime": {
     "end_time": "2023-08-09T06:46:06.619934998Z",
     "start_time": "2023-08-09T06:46:06.507184061Z"
    }
   },
   "id": "a1e43b05de12f306"
  },
  {
   "cell_type": "code",
   "execution_count": 133,
   "outputs": [
    {
     "data": {
      "text/plain": "       page_idx  block_idx  line_idx        x1        y1        x2        y2  \\\nindex                                                                          \n2540         13        232       542  0.270508  0.335938  0.298828  0.347656   \n\n      value      paired     space  align       x12       y12       x22  \\\nindex                                                                    \n2540    Tax  Tax Period  0.000977    0.0  0.299805  0.335938  0.342773   \n\n            y22  score  \nindex                   \n2540   0.347656      0  ",
      "text/html": "<div>\n<style scoped>\n    .dataframe tbody tr th:only-of-type {\n        vertical-align: middle;\n    }\n\n    .dataframe tbody tr th {\n        vertical-align: top;\n    }\n\n    .dataframe thead th {\n        text-align: right;\n    }\n</style>\n<table border=\"1\" class=\"dataframe\">\n  <thead>\n    <tr style=\"text-align: right;\">\n      <th></th>\n      <th>page_idx</th>\n      <th>block_idx</th>\n      <th>line_idx</th>\n      <th>x1</th>\n      <th>y1</th>\n      <th>x2</th>\n      <th>y2</th>\n      <th>value</th>\n      <th>paired</th>\n      <th>space</th>\n      <th>align</th>\n      <th>x12</th>\n      <th>y12</th>\n      <th>x22</th>\n      <th>y22</th>\n      <th>score</th>\n    </tr>\n    <tr>\n      <th>index</th>\n      <th></th>\n      <th></th>\n      <th></th>\n      <th></th>\n      <th></th>\n      <th></th>\n      <th></th>\n      <th></th>\n      <th></th>\n      <th></th>\n      <th></th>\n      <th></th>\n      <th></th>\n      <th></th>\n      <th></th>\n      <th></th>\n    </tr>\n  </thead>\n  <tbody>\n    <tr>\n      <th>2540</th>\n      <td>13</td>\n      <td>232</td>\n      <td>542</td>\n      <td>0.270508</td>\n      <td>0.335938</td>\n      <td>0.298828</td>\n      <td>0.347656</td>\n      <td>Tax</td>\n      <td>Tax Period</td>\n      <td>0.000977</td>\n      <td>0.0</td>\n      <td>0.299805</td>\n      <td>0.335938</td>\n      <td>0.342773</td>\n      <td>0.347656</td>\n      <td>0</td>\n    </tr>\n  </tbody>\n</table>\n</div>"
     },
     "execution_count": 133,
     "metadata": {},
     "output_type": "execute_result"
    }
   ],
   "source": [
    "word1, word2 = \"Tax\", \"Period\"\n",
    "row = line.iloc[0][[\"page_idx\", \"block_idx\", \"line_idx\", \"paired\"]]\n",
    "c = report.words[(report.words.page_idx == row.page_idx)]\n",
    "column = c[c['value'].str.contains(word1) | c['value'].str.contains(word2)][[\"page_idx\", \"block_idx\", \"line_idx\", \"x1\", \"y1\", \"x2\", \"y2\", \"value\"]]\n",
    "column['paired']=  column.value + \" \" + column.value.shift(-1)\n",
    "column['space']=  abs(column.x1.shift(-1) - column.x2)\n",
    "column['align']=  (abs(column.y1.shift(-1) - column.y1) + (column.y2.shift(-1) - column.y2))/2\n",
    "\n",
    "column['x12']=  column.x1.shift(-1)\n",
    "column['y12']=  column.y1.shift(-1)\n",
    "column['x22']=  column.x2.shift(-1)\n",
    "column['y22']=  column.y2.shift(-1)\n",
    "\n",
    "column[\"score\"] = column[\"paired\"].apply(lambda x: 100 - fuzz.ratio(str(x), str(word1) + \" \" + str(word2)))\n",
    "column = column[column.score < 10]\n",
    "column = column.sort_values(by=['score', 'space', \"align\"])\n",
    "column"
   ],
   "metadata": {
    "collapsed": false,
    "ExecuteTime": {
     "end_time": "2023-08-09T06:46:06.620225387Z",
     "start_time": "2023-08-09T06:46:06.507309506Z"
    }
   },
   "id": "852c35bbc51d1ec7"
  },
  {
   "cell_type": "code",
   "execution_count": 134,
   "outputs": [
    {
     "data": {
      "text/plain": "          value  line_idx\nindex                    \n2533         in       539\n2534        IRC       539\n2535   6325(a).       539\n2536       Kind       540\n2537         of       540\n2538        Tax       540\n2539        (a)       541",
      "text/html": "<div>\n<style scoped>\n    .dataframe tbody tr th:only-of-type {\n        vertical-align: middle;\n    }\n\n    .dataframe tbody tr th {\n        vertical-align: top;\n    }\n\n    .dataframe thead th {\n        text-align: right;\n    }\n</style>\n<table border=\"1\" class=\"dataframe\">\n  <thead>\n    <tr style=\"text-align: right;\">\n      <th></th>\n      <th>value</th>\n      <th>line_idx</th>\n    </tr>\n    <tr>\n      <th>index</th>\n      <th></th>\n      <th></th>\n    </tr>\n  </thead>\n  <tbody>\n    <tr>\n      <th>2533</th>\n      <td>in</td>\n      <td>539</td>\n    </tr>\n    <tr>\n      <th>2534</th>\n      <td>IRC</td>\n      <td>539</td>\n    </tr>\n    <tr>\n      <th>2535</th>\n      <td>6325(a).</td>\n      <td>539</td>\n    </tr>\n    <tr>\n      <th>2536</th>\n      <td>Kind</td>\n      <td>540</td>\n    </tr>\n    <tr>\n      <th>2537</th>\n      <td>of</td>\n      <td>540</td>\n    </tr>\n    <tr>\n      <th>2538</th>\n      <td>Tax</td>\n      <td>540</td>\n    </tr>\n    <tr>\n      <th>2539</th>\n      <td>(a)</td>\n      <td>541</td>\n    </tr>\n  </tbody>\n</table>\n</div>"
     },
     "execution_count": 134,
     "metadata": {},
     "output_type": "execute_result"
    }
   ],
   "source": [
    "c[(c.block_idx==231)][[\"value\", \"line_idx\"]]"
   ],
   "metadata": {
    "collapsed": false,
    "ExecuteTime": {
     "end_time": "2023-08-09T06:46:06.620460622Z",
     "start_time": "2023-08-09T06:46:06.507386580Z"
    }
   },
   "id": "e00d57bddd2106a4"
  },
  {
   "cell_type": "code",
   "execution_count": 144,
   "outputs": [
    {
     "name": "stdout",
     "output_type": "stream",
     "text": [
      "(b) 5.0 16.0 0.0107421875\n",
      "True\n",
      "True\n",
      "False\n",
      "0\n",
      "12/31/2010 0.0 1.0 0.01171875\n",
      "False\n",
      "False\n",
      "False\n",
      "1\n",
      "12/31/2011 0.0 1.0 0.0107421875\n",
      "False\n",
      "False\n",
      "False\n",
      "2\n",
      "12/31/2012 0.0 1.0 0.0107421875\n",
      "False\n",
      "False\n",
      "False\n",
      "3\n",
      "12/31/2013 0.0 1.0 0.0126953125\n",
      "False\n",
      "False\n",
      "False\n",
      "4\n",
      "12/31/2014 0.0 1.0 0.009765625\n",
      "False\n",
      "False\n",
      "True\n",
      "5\n"
     ]
    },
    {
     "name": "stderr",
     "output_type": "stream",
     "text": [
      "/tmp/ipykernel_9486/2056189407.py:4: SettingWithCopyWarning: \n",
      "A value is trying to be set on a copy of a slice from a DataFrame.\n",
      "Try using .loc[row_indexer,col_indexer] = value instead\n",
      "\n",
      "See the caveats in the documentation: https://pandas.pydata.org/pandas-docs/stable/user_guide/indexing.html#returning-a-view-versus-a-copy\n",
      "  column_data['hd']=  abs(column_data.y1.shift(-1) - column.y2.item())\n"
     ]
    },
    {
     "data": {
      "text/plain": "    page_idx    dimensions orientation.value orientation.confidence  \\\n0         13  [1684, 1190]              None                   None   \n1         13  [1684, 1190]              None                   None   \n2         13  [1684, 1190]              None                   None   \n3         13  [1684, 1190]              None                   None   \n4         13  [1684, 1190]              None                   None   \n5         13  [1684, 1190]              None                   None   \n6         13  [1684, 1190]              None                   None   \n7         13  [1684, 1190]              None                   None   \n8         13  [1684, 1190]              None                   None   \n9         13  [1684, 1190]              None                   None   \n10        13  [1684, 1190]              None                   None   \n11        13  [1684, 1190]              None                   None   \n12        13  [1684, 1190]              None                   None   \n13        13  [1684, 1190]              None                   None   \n14        13  [1684, 1190]              None                   None   \n15        13  [1684, 1190]              None                   None   \n16        13  [1684, 1190]              None                   None   \n17        13  [1684, 1190]              None                   None   \n18        13  [1684, 1190]              None                   None   \n19        13  [1684, 1190]              None                   None   \n\n   language.value language.confidence  block_idx  \\\n0            None                None        232   \n1            None                None        237   \n2            None                None        237   \n3            None                None        237   \n4            None                None        237   \n5            None                None        237   \n6            None                None        237   \n7            None                None        237   \n8            None                None        239   \n9            None                None        242   \n10           None                None        239   \n11           None                None        245   \n12           None                None        242   \n13           None                None        245   \n14           None                None        248   \n15           None                None        245   \n16           None                None        248   \n17           None                None        248   \n18           None                None        248   \n19           None                None        248   \n\n                                       block_geometry artefacts  line_idx  \\\n0   [[0.2705078125, 0.3359375], [0.3427734375, 0.3...        []       543   \n1   [[0.193359375, 0.3681640625], [0.701171875, 0....        []       559   \n2   [[0.193359375, 0.3681640625], [0.701171875, 0....        []       560   \n3   [[0.193359375, 0.3681640625], [0.701171875, 0....        []       561   \n4   [[0.193359375, 0.3681640625], [0.701171875, 0....        []       562   \n5   [[0.193359375, 0.3681640625], [0.701171875, 0....        []       563   \n6   [[0.193359375, 0.3681640625], [0.701171875, 0....        []       564   \n7   [[0.193359375, 0.3681640625], [0.701171875, 0....        []       565   \n8   [[0.3056640625, 0.5625], [0.49609375, 0.595703...        []       568   \n9   [[0.16796875, 0.6201171875], [0.412109375, 0.6...        []       573   \n10  [[0.3056640625, 0.5625], [0.49609375, 0.595703...        []       569   \n11  [[0.22851562500000003, 0.6484375], [0.47460937...        []       577   \n12  [[0.16796875, 0.6201171875], [0.412109375, 0.6...        []       573   \n13  [[0.22851562500000003, 0.6484375], [0.47460937...        []       577   \n14  [[0.1689453125, 0.69921875], [0.388671875, 0.7...        []       587   \n15  [[0.22851562500000003, 0.6484375], [0.47460937...        []       578   \n16  [[0.1689453125, 0.69921875], [0.388671875, 0.7...        []       587   \n17  [[0.1689453125, 0.69921875], [0.388671875, 0.7...        []       588   \n18  [[0.1689453125, 0.69921875], [0.388671875, 0.7...        []       588   \n19  [[0.1689453125, 0.69921875], [0.388671875, 0.7...        []       588   \n\n    ...       value  confidence        x1        y1        x2        y2  \\\n0   ...         (b)    0.976120  0.295898  0.356445  0.321289  0.368164   \n1   ...  12/31/2010    0.995618  0.258789  0.368164  0.356445  0.381836   \n2   ...  12/31/2011    0.994220  0.258789  0.378906  0.356445  0.392578   \n3   ...  12/31/2012    0.849877  0.258789  0.390625  0.357422  0.404297   \n4   ...  12/31/2013    0.999272  0.258789  0.401367  0.355469  0.415039   \n5   ...  12/31/2014    0.999373  0.258789  0.412109  0.355469  0.425781   \n6   ...  12/31/2015    0.991480  0.259766  0.424805  0.355469  0.435547   \n7   ...  12/31/2016    0.995368  0.258789  0.434570  0.356445  0.448242   \n8   ...       FLOYD    0.999671  0.306641  0.573242  0.357422  0.583984   \n9   ...    prepared    0.999099  0.268555  0.621094  0.324219  0.632812   \n10  ...         NEW    0.999626  0.305664  0.583008  0.339844  0.594727   \n11  ...         day    0.988217  0.274414  0.653320  0.302734  0.666992   \n12  ...         and    0.996545  0.325195  0.621094  0.351562  0.632812   \n13  ...          of    0.999832  0.300781  0.652344  0.318359  0.665039   \n14  ...          of    0.999188  0.296875  0.713867  0.310547  0.722656   \n15  ...         Cai    0.093879  0.267578  0.677734  0.328125  0.703125   \n16  ...     officer    0.999774  0.309570  0.712891  0.345703  0.723633   \n17  ...        1971    0.999868  0.290039  0.721680  0.320312  0.732422   \n18  ...           2    0.999822  0.327148  0.722656  0.337891  0.731445   \n19  ...        C.B.    0.992228  0.336914  0.722656  0.360352  0.731445   \n\n          hd  bid   lid       h2d  \n0   0.020508  5.0  16.0  0.010742  \n1   0.031250  0.0   1.0  0.011719  \n2   0.042969  0.0   1.0  0.010742  \n3   0.053711  0.0   1.0  0.010742  \n4   0.064453  0.0   1.0  0.012695  \n5   0.077148  0.0   1.0  0.009766  \n6   0.086914  0.0   1.0  0.138672  \n7   0.225586  2.0   3.0  0.009766  \n8   0.235352  3.0   5.0  0.038086  \n9   0.273438  3.0   4.0  0.000000  \n10  0.273438  6.0   8.0  0.031250  \n11  0.304688  3.0   4.0  0.000977  \n12  0.305664  3.0   4.0  0.024414  \n13  0.330078  3.0  10.0  0.035156  \n14  0.365234  3.0   9.0  0.000977  \n15  0.366211  3.0   9.0  0.007812  \n16  0.374023  0.0   1.0  0.000977  \n17  0.375000  0.0   0.0  0.000000  \n18  0.375000  0.0   0.0       NaN  \n19       NaN  NaN   NaN       NaN  \n\n[20 rows x 22 columns]",
      "text/html": "<div>\n<style scoped>\n    .dataframe tbody tr th:only-of-type {\n        vertical-align: middle;\n    }\n\n    .dataframe tbody tr th {\n        vertical-align: top;\n    }\n\n    .dataframe thead th {\n        text-align: right;\n    }\n</style>\n<table border=\"1\" class=\"dataframe\">\n  <thead>\n    <tr style=\"text-align: right;\">\n      <th></th>\n      <th>page_idx</th>\n      <th>dimensions</th>\n      <th>orientation.value</th>\n      <th>orientation.confidence</th>\n      <th>language.value</th>\n      <th>language.confidence</th>\n      <th>block_idx</th>\n      <th>block_geometry</th>\n      <th>artefacts</th>\n      <th>line_idx</th>\n      <th>...</th>\n      <th>value</th>\n      <th>confidence</th>\n      <th>x1</th>\n      <th>y1</th>\n      <th>x2</th>\n      <th>y2</th>\n      <th>hd</th>\n      <th>bid</th>\n      <th>lid</th>\n      <th>h2d</th>\n    </tr>\n  </thead>\n  <tbody>\n    <tr>\n      <th>0</th>\n      <td>13</td>\n      <td>[1684, 1190]</td>\n      <td>None</td>\n      <td>None</td>\n      <td>None</td>\n      <td>None</td>\n      <td>232</td>\n      <td>[[0.2705078125, 0.3359375], [0.3427734375, 0.3...</td>\n      <td>[]</td>\n      <td>543</td>\n      <td>...</td>\n      <td>(b)</td>\n      <td>0.976120</td>\n      <td>0.295898</td>\n      <td>0.356445</td>\n      <td>0.321289</td>\n      <td>0.368164</td>\n      <td>0.020508</td>\n      <td>5.0</td>\n      <td>16.0</td>\n      <td>0.010742</td>\n    </tr>\n    <tr>\n      <th>1</th>\n      <td>13</td>\n      <td>[1684, 1190]</td>\n      <td>None</td>\n      <td>None</td>\n      <td>None</td>\n      <td>None</td>\n      <td>237</td>\n      <td>[[0.193359375, 0.3681640625], [0.701171875, 0....</td>\n      <td>[]</td>\n      <td>559</td>\n      <td>...</td>\n      <td>12/31/2010</td>\n      <td>0.995618</td>\n      <td>0.258789</td>\n      <td>0.368164</td>\n      <td>0.356445</td>\n      <td>0.381836</td>\n      <td>0.031250</td>\n      <td>0.0</td>\n      <td>1.0</td>\n      <td>0.011719</td>\n    </tr>\n    <tr>\n      <th>2</th>\n      <td>13</td>\n      <td>[1684, 1190]</td>\n      <td>None</td>\n      <td>None</td>\n      <td>None</td>\n      <td>None</td>\n      <td>237</td>\n      <td>[[0.193359375, 0.3681640625], [0.701171875, 0....</td>\n      <td>[]</td>\n      <td>560</td>\n      <td>...</td>\n      <td>12/31/2011</td>\n      <td>0.994220</td>\n      <td>0.258789</td>\n      <td>0.378906</td>\n      <td>0.356445</td>\n      <td>0.392578</td>\n      <td>0.042969</td>\n      <td>0.0</td>\n      <td>1.0</td>\n      <td>0.010742</td>\n    </tr>\n    <tr>\n      <th>3</th>\n      <td>13</td>\n      <td>[1684, 1190]</td>\n      <td>None</td>\n      <td>None</td>\n      <td>None</td>\n      <td>None</td>\n      <td>237</td>\n      <td>[[0.193359375, 0.3681640625], [0.701171875, 0....</td>\n      <td>[]</td>\n      <td>561</td>\n      <td>...</td>\n      <td>12/31/2012</td>\n      <td>0.849877</td>\n      <td>0.258789</td>\n      <td>0.390625</td>\n      <td>0.357422</td>\n      <td>0.404297</td>\n      <td>0.053711</td>\n      <td>0.0</td>\n      <td>1.0</td>\n      <td>0.010742</td>\n    </tr>\n    <tr>\n      <th>4</th>\n      <td>13</td>\n      <td>[1684, 1190]</td>\n      <td>None</td>\n      <td>None</td>\n      <td>None</td>\n      <td>None</td>\n      <td>237</td>\n      <td>[[0.193359375, 0.3681640625], [0.701171875, 0....</td>\n      <td>[]</td>\n      <td>562</td>\n      <td>...</td>\n      <td>12/31/2013</td>\n      <td>0.999272</td>\n      <td>0.258789</td>\n      <td>0.401367</td>\n      <td>0.355469</td>\n      <td>0.415039</td>\n      <td>0.064453</td>\n      <td>0.0</td>\n      <td>1.0</td>\n      <td>0.012695</td>\n    </tr>\n    <tr>\n      <th>5</th>\n      <td>13</td>\n      <td>[1684, 1190]</td>\n      <td>None</td>\n      <td>None</td>\n      <td>None</td>\n      <td>None</td>\n      <td>237</td>\n      <td>[[0.193359375, 0.3681640625], [0.701171875, 0....</td>\n      <td>[]</td>\n      <td>563</td>\n      <td>...</td>\n      <td>12/31/2014</td>\n      <td>0.999373</td>\n      <td>0.258789</td>\n      <td>0.412109</td>\n      <td>0.355469</td>\n      <td>0.425781</td>\n      <td>0.077148</td>\n      <td>0.0</td>\n      <td>1.0</td>\n      <td>0.009766</td>\n    </tr>\n    <tr>\n      <th>6</th>\n      <td>13</td>\n      <td>[1684, 1190]</td>\n      <td>None</td>\n      <td>None</td>\n      <td>None</td>\n      <td>None</td>\n      <td>237</td>\n      <td>[[0.193359375, 0.3681640625], [0.701171875, 0....</td>\n      <td>[]</td>\n      <td>564</td>\n      <td>...</td>\n      <td>12/31/2015</td>\n      <td>0.991480</td>\n      <td>0.259766</td>\n      <td>0.424805</td>\n      <td>0.355469</td>\n      <td>0.435547</td>\n      <td>0.086914</td>\n      <td>0.0</td>\n      <td>1.0</td>\n      <td>0.138672</td>\n    </tr>\n    <tr>\n      <th>7</th>\n      <td>13</td>\n      <td>[1684, 1190]</td>\n      <td>None</td>\n      <td>None</td>\n      <td>None</td>\n      <td>None</td>\n      <td>237</td>\n      <td>[[0.193359375, 0.3681640625], [0.701171875, 0....</td>\n      <td>[]</td>\n      <td>565</td>\n      <td>...</td>\n      <td>12/31/2016</td>\n      <td>0.995368</td>\n      <td>0.258789</td>\n      <td>0.434570</td>\n      <td>0.356445</td>\n      <td>0.448242</td>\n      <td>0.225586</td>\n      <td>2.0</td>\n      <td>3.0</td>\n      <td>0.009766</td>\n    </tr>\n    <tr>\n      <th>8</th>\n      <td>13</td>\n      <td>[1684, 1190]</td>\n      <td>None</td>\n      <td>None</td>\n      <td>None</td>\n      <td>None</td>\n      <td>239</td>\n      <td>[[0.3056640625, 0.5625], [0.49609375, 0.595703...</td>\n      <td>[]</td>\n      <td>568</td>\n      <td>...</td>\n      <td>FLOYD</td>\n      <td>0.999671</td>\n      <td>0.306641</td>\n      <td>0.573242</td>\n      <td>0.357422</td>\n      <td>0.583984</td>\n      <td>0.235352</td>\n      <td>3.0</td>\n      <td>5.0</td>\n      <td>0.038086</td>\n    </tr>\n    <tr>\n      <th>9</th>\n      <td>13</td>\n      <td>[1684, 1190]</td>\n      <td>None</td>\n      <td>None</td>\n      <td>None</td>\n      <td>None</td>\n      <td>242</td>\n      <td>[[0.16796875, 0.6201171875], [0.412109375, 0.6...</td>\n      <td>[]</td>\n      <td>573</td>\n      <td>...</td>\n      <td>prepared</td>\n      <td>0.999099</td>\n      <td>0.268555</td>\n      <td>0.621094</td>\n      <td>0.324219</td>\n      <td>0.632812</td>\n      <td>0.273438</td>\n      <td>3.0</td>\n      <td>4.0</td>\n      <td>0.000000</td>\n    </tr>\n    <tr>\n      <th>10</th>\n      <td>13</td>\n      <td>[1684, 1190]</td>\n      <td>None</td>\n      <td>None</td>\n      <td>None</td>\n      <td>None</td>\n      <td>239</td>\n      <td>[[0.3056640625, 0.5625], [0.49609375, 0.595703...</td>\n      <td>[]</td>\n      <td>569</td>\n      <td>...</td>\n      <td>NEW</td>\n      <td>0.999626</td>\n      <td>0.305664</td>\n      <td>0.583008</td>\n      <td>0.339844</td>\n      <td>0.594727</td>\n      <td>0.273438</td>\n      <td>6.0</td>\n      <td>8.0</td>\n      <td>0.031250</td>\n    </tr>\n    <tr>\n      <th>11</th>\n      <td>13</td>\n      <td>[1684, 1190]</td>\n      <td>None</td>\n      <td>None</td>\n      <td>None</td>\n      <td>None</td>\n      <td>245</td>\n      <td>[[0.22851562500000003, 0.6484375], [0.47460937...</td>\n      <td>[]</td>\n      <td>577</td>\n      <td>...</td>\n      <td>day</td>\n      <td>0.988217</td>\n      <td>0.274414</td>\n      <td>0.653320</td>\n      <td>0.302734</td>\n      <td>0.666992</td>\n      <td>0.304688</td>\n      <td>3.0</td>\n      <td>4.0</td>\n      <td>0.000977</td>\n    </tr>\n    <tr>\n      <th>12</th>\n      <td>13</td>\n      <td>[1684, 1190]</td>\n      <td>None</td>\n      <td>None</td>\n      <td>None</td>\n      <td>None</td>\n      <td>242</td>\n      <td>[[0.16796875, 0.6201171875], [0.412109375, 0.6...</td>\n      <td>[]</td>\n      <td>573</td>\n      <td>...</td>\n      <td>and</td>\n      <td>0.996545</td>\n      <td>0.325195</td>\n      <td>0.621094</td>\n      <td>0.351562</td>\n      <td>0.632812</td>\n      <td>0.305664</td>\n      <td>3.0</td>\n      <td>4.0</td>\n      <td>0.024414</td>\n    </tr>\n    <tr>\n      <th>13</th>\n      <td>13</td>\n      <td>[1684, 1190]</td>\n      <td>None</td>\n      <td>None</td>\n      <td>None</td>\n      <td>None</td>\n      <td>245</td>\n      <td>[[0.22851562500000003, 0.6484375], [0.47460937...</td>\n      <td>[]</td>\n      <td>577</td>\n      <td>...</td>\n      <td>of</td>\n      <td>0.999832</td>\n      <td>0.300781</td>\n      <td>0.652344</td>\n      <td>0.318359</td>\n      <td>0.665039</td>\n      <td>0.330078</td>\n      <td>3.0</td>\n      <td>10.0</td>\n      <td>0.035156</td>\n    </tr>\n    <tr>\n      <th>14</th>\n      <td>13</td>\n      <td>[1684, 1190]</td>\n      <td>None</td>\n      <td>None</td>\n      <td>None</td>\n      <td>None</td>\n      <td>248</td>\n      <td>[[0.1689453125, 0.69921875], [0.388671875, 0.7...</td>\n      <td>[]</td>\n      <td>587</td>\n      <td>...</td>\n      <td>of</td>\n      <td>0.999188</td>\n      <td>0.296875</td>\n      <td>0.713867</td>\n      <td>0.310547</td>\n      <td>0.722656</td>\n      <td>0.365234</td>\n      <td>3.0</td>\n      <td>9.0</td>\n      <td>0.000977</td>\n    </tr>\n    <tr>\n      <th>15</th>\n      <td>13</td>\n      <td>[1684, 1190]</td>\n      <td>None</td>\n      <td>None</td>\n      <td>None</td>\n      <td>None</td>\n      <td>245</td>\n      <td>[[0.22851562500000003, 0.6484375], [0.47460937...</td>\n      <td>[]</td>\n      <td>578</td>\n      <td>...</td>\n      <td>Cai</td>\n      <td>0.093879</td>\n      <td>0.267578</td>\n      <td>0.677734</td>\n      <td>0.328125</td>\n      <td>0.703125</td>\n      <td>0.366211</td>\n      <td>3.0</td>\n      <td>9.0</td>\n      <td>0.007812</td>\n    </tr>\n    <tr>\n      <th>16</th>\n      <td>13</td>\n      <td>[1684, 1190]</td>\n      <td>None</td>\n      <td>None</td>\n      <td>None</td>\n      <td>None</td>\n      <td>248</td>\n      <td>[[0.1689453125, 0.69921875], [0.388671875, 0.7...</td>\n      <td>[]</td>\n      <td>587</td>\n      <td>...</td>\n      <td>officer</td>\n      <td>0.999774</td>\n      <td>0.309570</td>\n      <td>0.712891</td>\n      <td>0.345703</td>\n      <td>0.723633</td>\n      <td>0.374023</td>\n      <td>0.0</td>\n      <td>1.0</td>\n      <td>0.000977</td>\n    </tr>\n    <tr>\n      <th>17</th>\n      <td>13</td>\n      <td>[1684, 1190]</td>\n      <td>None</td>\n      <td>None</td>\n      <td>None</td>\n      <td>None</td>\n      <td>248</td>\n      <td>[[0.1689453125, 0.69921875], [0.388671875, 0.7...</td>\n      <td>[]</td>\n      <td>588</td>\n      <td>...</td>\n      <td>1971</td>\n      <td>0.999868</td>\n      <td>0.290039</td>\n      <td>0.721680</td>\n      <td>0.320312</td>\n      <td>0.732422</td>\n      <td>0.375000</td>\n      <td>0.0</td>\n      <td>0.0</td>\n      <td>0.000000</td>\n    </tr>\n    <tr>\n      <th>18</th>\n      <td>13</td>\n      <td>[1684, 1190]</td>\n      <td>None</td>\n      <td>None</td>\n      <td>None</td>\n      <td>None</td>\n      <td>248</td>\n      <td>[[0.1689453125, 0.69921875], [0.388671875, 0.7...</td>\n      <td>[]</td>\n      <td>588</td>\n      <td>...</td>\n      <td>2</td>\n      <td>0.999822</td>\n      <td>0.327148</td>\n      <td>0.722656</td>\n      <td>0.337891</td>\n      <td>0.731445</td>\n      <td>0.375000</td>\n      <td>0.0</td>\n      <td>0.0</td>\n      <td>NaN</td>\n    </tr>\n    <tr>\n      <th>19</th>\n      <td>13</td>\n      <td>[1684, 1190]</td>\n      <td>None</td>\n      <td>None</td>\n      <td>None</td>\n      <td>None</td>\n      <td>248</td>\n      <td>[[0.1689453125, 0.69921875], [0.388671875, 0.7...</td>\n      <td>[]</td>\n      <td>588</td>\n      <td>...</td>\n      <td>C.B.</td>\n      <td>0.992228</td>\n      <td>0.336914</td>\n      <td>0.722656</td>\n      <td>0.360352</td>\n      <td>0.731445</td>\n      <td>NaN</td>\n      <td>NaN</td>\n      <td>NaN</td>\n      <td>NaN</td>\n    </tr>\n  </tbody>\n</table>\n<p>20 rows × 22 columns</p>\n</div>"
     },
     "execution_count": 144,
     "metadata": {},
     "output_type": "execute_result"
    }
   ],
   "source": [
    "right = 0.02\n",
    "left = 0.02\n",
    "column_data = c[(c.x1 >= column.x1.item() - left) & (c.x2 <= column.x22.item() + right) & (c.y1 >= column.y2.item())]\n",
    "column_data['hd']=  abs(column_data.y1.shift(-1) - column.y2.item())\n",
    "column_data = column_data.sort_values(by=['hd'])\n",
    "column_data['bid']=  abs(column_data.block_idx.shift(-1) - column_data.block_idx)\n",
    "column_data['lid']=  abs(column_data.line_idx.shift(-1) - column_data.line_idx)\n",
    "column_data['h2d']=  abs(column_data.hd.shift(-1) - column_data.hd)\n",
    "column_data = column_data.sort_values(by=['hd', 'h2d', 'bid', \"lid\"])\n",
    "column_data = column_data.reset_index(drop=True)\n",
    "values = []\n",
    "for i, k in column_data.iterrows():\n",
    "    print(k.value, k.bid, k.lid, k.h2d)\n",
    "    print(k.bid - column_data.iloc[i + 1].bid.item() > 0)\n",
    "    print(k.lid - column_data.iloc[i + 1].lid.item() > 0)\n",
    "    print(column_data.iloc[i + 1].h2d.item() > 0.12)\n",
    "    print(i)\n",
    "    if i < 2 and (k.bid > 1 or k.lid > 1):\n",
    "        continue\n",
    "    elif k.bid > 1 or k.lid > 1 or column_data.iloc[i + 1].h2d.item() > 0.12:\n",
    "    # print(column_data.bid - column_data.iloc[i + 1].bid.item())\n",
    "    # print(k.bid - column_data.iloc[i + 1].bid.item())\n",
    "        break\n",
    "    else:\n",
    "        values.append(k.value)\n",
    "\n",
    "values\n",
    "column_data"
   ],
   "metadata": {
    "collapsed": false,
    "ExecuteTime": {
     "end_time": "2023-08-09T06:52:32.344134016Z",
     "start_time": "2023-08-09T06:52:32.301514504Z"
    }
   },
   "id": "bc9f094d03a92dbc"
  },
  {
   "cell_type": "code",
   "execution_count": null,
   "outputs": [],
   "source": [],
   "metadata": {
    "collapsed": false
   },
   "id": "2fc023cbb6fc77f4"
  }
 ],
 "metadata": {
  "kernelspec": {
   "display_name": "Python 3",
   "language": "python",
   "name": "python3"
  },
  "language_info": {
   "codemirror_mode": {
    "name": "ipython",
    "version": 2
   },
   "file_extension": ".py",
   "mimetype": "text/x-python",
   "name": "python",
   "nbconvert_exporter": "python",
   "pygments_lexer": "ipython2",
   "version": "2.7.6"
  }
 },
 "nbformat": 4,
 "nbformat_minor": 5
}
